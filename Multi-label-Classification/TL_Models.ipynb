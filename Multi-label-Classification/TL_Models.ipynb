{
 "cells": [
  {
   "cell_type": "markdown",
   "metadata": {},
   "source": [
    "### Installing & Importing all the necessary packages\n",
    "\n",
    "Update system packages, install `libgl1`, and install the `openpyxl` library for handling Excel files\n",
    "\n",
    "- **`albumentations`**: Library for image augmentation to enhance training data diversity.\n",
    "- **`sweetviz`**: Generates high-density visualizations of pandas DataFrames for quick data analysis.\n",
    "- **`grad-cam`**: Visualizes important image regions for CNN predictions using Grad-CAM.\n",
    "- **`lime`**: Provides local explanations for machine learning model predictions.\n",
    "- **`pandas_profiling`**: Creates detailed reports of pandas DataFrames for exploratory data analysis.\n",
    "- **`shap`**: Explains model predictions by attributing feature contributions using Shapley values.\n",
    "- **`Keras-Preprocessing`**: Offers utilities for preprocessing data, including image and text transformations."
   ]
  },
  {
   "cell_type": "code",
   "execution_count": null,
   "metadata": {},
   "outputs": [],
   "source": [
    "from IPython.display import clear_output\n",
    "\n",
    "!sudo apt-get update && apt-get install libgl1 -y\n",
    "!pip install openpyxl -q\n",
    "!pip install albumentations sweetviz grad-cam lime pandas_profiling shap Keras-Preprocessing -q\n",
    "\n",
    "clear_output()"
   ]
  },
  {
   "cell_type": "code",
   "execution_count": null,
   "metadata": {},
   "outputs": [],
   "source": [
    "# Standard Libraries\n",
    "import os\n",
    "import math\n",
    "import shutil\n",
    "import warnings\n",
    "from typing import Dict, Optional\n",
    "\n",
    "# Data Handling\n",
    "import pandas as pd\n",
    "import numpy as np\n",
    "import cv2\n",
    "from PIL import Image\n",
    "\n",
    "# Plotting\n",
    "import matplotlib.pyplot as plt\n",
    "import seaborn as sns\n",
    "import matplotlib.cm as cm\n",
    "from matplotlib.colors import LinearSegmentedColormap\n",
    "\n",
    "# Skimage\n",
    "from skimage.segmentation import slic, mark_boundaries\n",
    "\n",
    "# TensorFlow and Keras\n",
    "import tensorflow as tf\n",
    "from tensorflow.keras.preprocessing.image import load_img, img_to_array, ImageDataGenerator\n",
    "from tensorflow.keras import Sequential, Model\n",
    "from tensorflow.keras.layers import Input, Dense, BatchNormalization, Flatten, Conv2D, MaxPooling2D, Dropout, GlobalAveragePooling2D, LeakyReLU\n",
    "from tensorflow.keras.optimizers import Adam, Adamax\n",
    "from tensorflow.keras.applications import ResNet50V2, ResNet101V2, InceptionV3, InceptionResNetV2, MobileNetV2, DenseNet169, NASNetMobile, EfficientNetB7, ConvNeXtBase, VGG19, Xception\n",
    "from tensorflow.keras.callbacks import TensorBoard, ModelCheckpoint, EarlyStopping, ReduceLROnPlateau, CSVLogger, LearningRateScheduler\n",
    "\n",
    "# Keras (Standalone)\n",
    "import keras\n",
    "from keras.models import Sequential, Model\n",
    "from keras.layers import Dense, Dropout, Flatten, Conv2D, MaxPooling2D, BatchNormalization\n",
    "from keras.optimizers import Adam, SGD, Adagrad, Adadelta, RMSprop, Nadam\n",
    "from keras.utils import to_categorical\n",
    "from keras.callbacks import EarlyStopping, ModelCheckpoint, History, ReduceLROnPlateau, CSVLogger, LearningRateScheduler\n",
    "\n",
    "# Machine Learning\n",
    "from sklearn.model_selection import train_test_split, KFold, GridSearchCV\n",
    "from sklearn.preprocessing import LabelEncoder\n",
    "from sklearn.metrics import (accuracy_score, precision_score, recall_score, classification_report,\n",
    "                             confusion_matrix, roc_curve, roc_auc_score, matthews_corrcoef, hamming_loss, f1_score, precision_recall_curve)\n",
    "\n",
    "# Lime and Shap\n",
    "from lime import lime_image\n",
    "import shap\n",
    "\n",
    "# PyTorch Grad-CAM\n",
    "from pytorch_grad_cam import GradCAM\n",
    "\n",
    "# Sweetviz (for EDA)\n",
    "import sweetviz\n",
    "\n",
    "# IPython for display\n",
    "from IPython.display import Image, display\n",
    "\n",
    "# Magic commands (for Jupyter Notebooks)\n",
    "%matplotlib inline\n",
    "%load_ext tensorboard\n",
    "%reload_ext tensorboard"
   ]
  },
  {
   "cell_type": "markdown",
   "metadata": {},
   "source": [
    "### Data Loading and Cleaning\n",
    "\n",
    "Load class labels from an Excel file, binary test labels from a CSV, clean the class labels DataFrame by removing empty rows and columns, and display the cleaned data."
   ]
  },
  {
   "cell_type": "code",
   "execution_count": null,
   "metadata": {},
   "outputs": [],
   "source": [
    "la1=pd.read_excel('/workspace/anushka saini/train_val/multilabelpcos.xlsx')\n",
    "la1"
   ]
  },
  {
   "cell_type": "code",
   "execution_count": null,
   "metadata": {},
   "outputs": [],
   "source": [
    "la2 = pd.read_csv('/workspace/anushka saini/test/test_label_multi.csv')\n",
    "la2"
   ]
  },
  {
   "cell_type": "code",
   "execution_count": null,
   "metadata": {},
   "outputs": [],
   "source": [
    "df = la1.dropna(how='all').dropna(how='all', axis=1)\n",
    "print(df)"
   ]
  },
  {
   "cell_type": "markdown",
   "metadata": {},
   "source": [
    "### Train-Validate Split\n",
    "\n",
    "Split the DataFrame into training and validation sets based on specified percentages, using optional random seed for reproducibility."
   ]
  },
  {
   "cell_type": "code",
   "execution_count": null,
   "metadata": {},
   "outputs": [],
   "source": [
    "def train_validate_split(df, train_percent=.8, validate_percent=.2, seed=None):\n",
    "    np.random.seed(seed)\n",
    "    perm = np.random.permutation(df.index)\n",
    "    m = len(df.index)\n",
    "    train_end = int(train_percent * m)\n",
    "    validate_end = int(validate_percent * m) + train_end\n",
    "    train = df.iloc[perm[:train_end]]\n",
    "    validate = df.iloc[perm[train_end:validate_end]]\n",
    "    # test = df.iloc[perm[validate_end:]]\n",
    "    return train, validate"
   ]
  },
  {
   "cell_type": "code",
   "execution_count": null,
   "metadata": {},
   "outputs": [],
   "source": [
    "train, validate = train_validate_split(df)\n",
    "train"
   ]
  },
  {
   "cell_type": "code",
   "execution_count": null,
   "metadata": {},
   "outputs": [],
   "source": [
    "validate"
   ]
  },
  {
   "cell_type": "markdown",
   "metadata": {},
   "source": [
    "### Image and Label Preparation\n",
    "\n",
    "Map labels, load and preprocess images for training, validation, and testing, and display shapes of image arrays and labels."
   ]
  },
  {
   "cell_type": "code",
   "execution_count": null,
   "metadata": {},
   "outputs": [],
   "source": [
    "train_labels = train[[\"Round and Thin\", \"Cumulus oophorous\", \"Corpus luteum\", \"Hemorrhagic ovarian cyst\", \"Hemorrhagic corpus luteum\", \"Endometrioma\", \"serous cystadenoma\", \"Serous cystadenocarcinoma\", \"Mucinous cystadenoma\", \"Mucinous cystadenocarcinoma\", \"Dermoid cyst\", \"Dermoid plug\", \"Rokitansky nodule\", \"Dermoid mesh\", \"Dot dash pattern\", \"Floating balls sign\", \"Ovarian fibroma\", \"Ovarian thecoma\", \"Metastasis\", \"Para ovarian cyst\", \"Polycystic ovary\", \"Ovarian hyperstimulation syndrome\", \"Ovarian torsion\", \"Thick hyperechoic margin\", \"Vaginal ultrasound\", \"Transvaginal ultrasound\", \"Gestational sac\", \"Foetus\", \"Chocolate cyst\", \"Cervix\", \"Urinary bladder\", \"Polyp\", \"Cervical cyst\"]].values\n",
    "train_image_paths = [os.path.join('/workspace/anushka saini/train_val/images', filename) for filename in train['ImagePath']] #to change when using GPU. similarly for validate and test\n",
    "train_images = []\n",
    "for train_image_path in train_image_paths:\n",
    "    image = load_img(train_image_path, target_size=(300, 300)) # change this when you run on GPU. 320X320 rahegi\n",
    "    image = img_to_array(image) / 255.0  # Normalize pixel values between 0 and 1\n",
    "    train_images.append(image)\n",
    "train_images = np.array(train_images, dtype=np.float32)"
   ]
  },
  {
   "cell_type": "code",
   "execution_count": null,
   "metadata": {},
   "outputs": [],
   "source": [
    "train_images.shape"
   ]
  },
  {
   "cell_type": "code",
   "execution_count": null,
   "metadata": {},
   "outputs": [],
   "source": [
    "train_labels.shape"
   ]
  },
  {
   "cell_type": "code",
   "execution_count": null,
   "metadata": {},
   "outputs": [],
   "source": [
    "validate_labels = validate[[\"Round and Thin\", \"Cumulus oophorous\", \"Corpus luteum\", \"Hemorrhagic ovarian cyst\", \"Hemorrhagic corpus luteum\", \"Endometrioma\", \"serous cystadenoma\", \"Serous cystadenocarcinoma\", \"Mucinous cystadenoma\", \"Mucinous cystadenocarcinoma\", \"Dermoid cyst\", \"Dermoid plug\", \"Rokitansky nodule\", \"Dermoid mesh\", \"Dot dash pattern\", \"Floating balls sign\", \"Ovarian fibroma\", \"Ovarian thecoma\", \"Metastasis\", \"Para ovarian cyst\", \"Polycystic ovary\", \"Ovarian hyperstimulation syndrome\", \"Ovarian torsion\", \"Thick hyperechoic margin\", \"Vaginal ultrasound\", \"Transvaginal ultrasound\", \"Gestational sac\", \"Foetus\", \"Chocolate cyst\", \"Cervix\", \"Urinary bladder\", \"Polyp\", \"Cervical cyst\"]].values\n",
    "validate_image_paths = [os.path.join('/workspace/anushka saini/train_val/images', filename) for filename in validate['ImagePath']]\n",
    "validate_images = []\n",
    "for validate_image_path in validate_image_paths:\n",
    "    image = load_img(validate_image_path, target_size=(300, 300)) # change this when you run on GPU\n",
    "    image = img_to_array(image) / 255.0  # Normalize pixel values between 0 and 1\n",
    "    validate_images.append(image)\n",
    "validate_images = np.array(validate_images, dtype=np.float32)"
   ]
  },
  {
   "cell_type": "code",
   "execution_count": null,
   "metadata": {},
   "outputs": [],
   "source": [
    "validate_images.shape"
   ]
  },
  {
   "cell_type": "code",
   "execution_count": null,
   "metadata": {},
   "outputs": [],
   "source": [
    "validate_labels.shape"
   ]
  },
  {
   "cell_type": "code",
   "execution_count": null,
   "metadata": {},
   "outputs": [],
   "source": [
    "test_labels = la2[[\"Round and Thin\", \"Cumulus oophorous\", \"Corpus luteum\", \"Hemorrhagic ovarian cyst\", \"Hemorrhagic corpus luteum\", \"Endometrioma\", \"serous cystadenoma\", \"Serous cystadenocarcinoma\", \"Mucinous cystadenoma\", \"Mucinous cystadenocarcinoma\", \"Dermoid cyst\", \"Dermoid plug\", \"Rokitansky nodule\", \"Dermoid mesh\", \"Dot dash pattern\", \"Floating balls sign\", \"Ovarian fibroma\", \"Ovarian thecoma\", \"Metastasis\", \"Para ovarian cyst\", \"Polycystic ovary\", \"Ovarian hyperstimulation syndrome\", \"Ovarian torsion\", \"Thick hyperechoic margin\", \"Vaginal ultrasound\", \"Transvaginal ultrasound\", \"Gestational sac\", \"Foetus\", \"Chocolate cyst\", \"Cervix\", \"Urinary bladder\", \"Polyp\", \"Cervical cyst\"]].values\n",
    "test_image_paths = [os.path.join('/workspace/anushka saini/test/images', filename) for filename in la2['imagePath']]\n",
    "test_images = []\n",
    "for test_image_path in test_image_paths:\n",
    "    image = load_img(test_image_path, target_size=(300, 300)) # change this when you run on GPU\n",
    "    image = img_to_array(image) / 255.0  # Normalize pixel values between 0 and 1\n",
    "    test_images.append(image)\n",
    "test_images = np.array(test_images, dtype=np.float32)"
   ]
  },
  {
   "cell_type": "code",
   "execution_count": null,
   "metadata": {},
   "outputs": [],
   "source": [
    "test_images.shape"
   ]
  },
  {
   "cell_type": "code",
   "execution_count": null,
   "metadata": {},
   "outputs": [],
   "source": [
    "test_labels.shape"
   ]
  },
  {
   "cell_type": "markdown",
   "metadata": {},
   "source": [
    "### TL_Models"
   ]
  },
  {
   "cell_type": "markdown",
   "metadata": {},
   "source": [
    "1) **ConvNeXtBase**"
   ]
  },
  {
   "cell_type": "code",
   "execution_count": null,
   "metadata": {},
   "outputs": [],
   "source": [
    "base_model=ConvNeXtBase(weights='imagenet', include_top=False,input_shape=(300,300,3))\n",
    "\n",
    "x = base_model.output\n",
    "x = Flatten()(x)\n",
    "predictions = Dense(33, activation='sigmoid',\n",
    "    use_bias=True,\n",
    "    kernel_initializer=\"glorot_uniform\",\n",
    "    bias_initializer=\"zeros\",\n",
    "    kernel_regularizer=None,\n",
    "    bias_regularizer=None,\n",
    "    activity_regularizer=None,\n",
    "    kernel_constraint=None,\n",
    "    bias_constraint=None,)(x)\n",
    "\n",
    "model = Model(inputs=base_model.input, outputs=predictions)\n",
    "for layer in base_model.layers:\n",
    "    layer.trainable = False\n",
    "model.compile(optimizer=Adam(), loss='binary_crossentropy', metrics=['accuracy', 'binary_accuracy', 'categorical_accuracy', 'top_k_categorical_accuracy', 'Precision', 'Recall'])    \n",
    "csv_logger = CSVLogger(\"ConvNeXtBase_model_history_log.csv\", append=True) #to be changed as per model"
   ]
  },
  {
   "cell_type": "code",
   "execution_count": null,
   "metadata": {},
   "outputs": [],
   "source": [
    "model.fit(train_images,train_labels,validation_data=(validate_images,validate_labels),batch_size=32,\n",
    "          epochs=250,callbacks=csv_logger,shuffle=False,class_weight=None,steps_per_epoch=None,\n",
    "          validation_steps=None,\n",
    "          validation_batch_size=None,\n",
    "          validation_freq=1,\n",
    "          max_queue_size=10,\n",
    "          workers=1,\n",
    "          use_multiprocessing=False) #make it 250"
   ]
  },
  {
   "cell_type": "code",
   "execution_count": null,
   "metadata": {},
   "outputs": [],
   "source": [
    "model.save_weights('ConvNeXtBase_weights.h5')\n",
    "model.save('ConvNeXtBase_model.h5')\n",
    "model.load_weights('ConvNeXtBase_weights.h5')"
   ]
  },
  {
   "cell_type": "code",
   "execution_count": null,
   "metadata": {},
   "outputs": [],
   "source": [
    "validate_labels_pred=model.predict(validate_images)\n",
    "validate_labels_pred=np.argmax(validate_labels_pred,axis=1)\n",
    "validate_labels=np.argmax(validate_labels,axis=1)"
   ]
  },
  {
   "cell_type": "code",
   "execution_count": null,
   "metadata": {},
   "outputs": [],
   "source": [
    "print(classification_report(validate_labels,validate_labels_pred))"
   ]
  },
  {
   "cell_type": "code",
   "execution_count": null,
   "metadata": {},
   "outputs": [],
   "source": [
    "test_labels_pred=model.predict(test_images)\n",
    "test_labels_pred=np.argmax(test_labels_pred,axis=1)\n",
    "test_labels=np.argmax(test_labels,axis=1)"
   ]
  },
  {
   "cell_type": "code",
   "execution_count": null,
   "metadata": {},
   "outputs": [],
   "source": [
    "print(classification_report(test_labels,test_labels_pred))"
   ]
  },
  {
   "cell_type": "markdown",
   "metadata": {},
   "source": [
    "2) **DenseNet169**"
   ]
  },
  {
   "cell_type": "code",
   "execution_count": null,
   "metadata": {},
   "outputs": [],
   "source": [
    "base_model=DenseNet169(weights='imagenet', include_top=False,input_shape=(300,300,3))\n",
    "\n",
    "x = base_model.output\n",
    "x = Flatten()(x)\n",
    "predictions = Dense(33, activation='sigmoid',\n",
    "    use_bias=True,\n",
    "    kernel_initializer=\"glorot_uniform\",\n",
    "    bias_initializer=\"zeros\",\n",
    "    kernel_regularizer=None,\n",
    "    bias_regularizer=None,\n",
    "    activity_regularizer=None,\n",
    "    kernel_constraint=None,\n",
    "    bias_constraint=None,)(x)\n",
    "\n",
    "model = Model(inputs=base_model.input, outputs=predictions)\n",
    "for layer in base_model.layers:\n",
    "    layer.trainable = False\n",
    "model.compile(optimizer=Adam(), loss='binary_crossentropy', metrics=['accuracy', 'binary_accuracy', 'categorical_accuracy', 'top_k_categorical_accuracy', 'Precision', 'Recall'])    \n",
    "csv_logger = CSVLogger(\"DenseNet169_model_history_log.csv\", append=True) #to be changed as per model"
   ]
  },
  {
   "cell_type": "code",
   "execution_count": null,
   "metadata": {},
   "outputs": [],
   "source": [
    "model.fit(train_images,train_labels,validation_data=(validate_images,validate_labels),batch_size=32,\n",
    "          epochs=250,callbacks=csv_logger,shuffle=False,class_weight=None,steps_per_epoch=None,\n",
    "          validation_steps=None,\n",
    "          validation_batch_size=None,\n",
    "          validation_freq=1,\n",
    "          max_queue_size=10,\n",
    "          workers=1,\n",
    "          use_multiprocessing=False) #make it 250"
   ]
  },
  {
   "cell_type": "code",
   "execution_count": null,
   "metadata": {},
   "outputs": [],
   "source": [
    "model.save_weights('DenseNet169_weights.h5')\n",
    "model.save('DenseNet169_model.h5')\n",
    "model.load_weights('DenseNet169_weights.h5')"
   ]
  },
  {
   "cell_type": "code",
   "execution_count": null,
   "metadata": {},
   "outputs": [],
   "source": [
    "validate_labels_pred=model.predict(validate_images)\n",
    "validate_labels_pred=np.argmax(validate_labels_pred,axis=1)\n",
    "validate_labels=np.argmax(validate_labels,axis=1)"
   ]
  },
  {
   "cell_type": "code",
   "execution_count": null,
   "metadata": {},
   "outputs": [],
   "source": [
    "print(classification_report(validate_labels,validate_labels_pred))"
   ]
  },
  {
   "cell_type": "code",
   "execution_count": null,
   "metadata": {},
   "outputs": [],
   "source": [
    "test_labels_pred=model.predict(test_images)\n",
    "test_labels_pred=np.argmax(test_labels_pred,axis=1)\n",
    "test_labels=np.argmax(test_labels,axis=1)"
   ]
  },
  {
   "cell_type": "code",
   "execution_count": null,
   "metadata": {},
   "outputs": [],
   "source": [
    "print(classification_report(test_labels,test_labels_pred))"
   ]
  },
  {
   "cell_type": "markdown",
   "metadata": {},
   "source": [
    "3) **InceptionResNetV2**"
   ]
  },
  {
   "cell_type": "code",
   "execution_count": null,
   "metadata": {},
   "outputs": [],
   "source": [
    "base_model=InceptionResNetV2(weights='imagenet', include_top=False,input_shape=(300,300,3))\n",
    "\n",
    "x = base_model.output\n",
    "x = Flatten()(x)\n",
    "predictions = Dense(33, activation='sigmoid',\n",
    "    use_bias=True,\n",
    "    kernel_initializer=\"glorot_uniform\",\n",
    "    bias_initializer=\"zeros\",\n",
    "    kernel_regularizer=None,\n",
    "    bias_regularizer=None,\n",
    "    activity_regularizer=None,\n",
    "    kernel_constraint=None,\n",
    "    bias_constraint=None,)(x)\n",
    "model = Model(inputs=base_model.input, outputs=predictions)\n",
    "for layer in base_model.layers:\n",
    "    layer.trainable = False\n",
    "model.compile(optimizer=Adam(), loss='binary_crossentropy', metrics=['accuracy', 'binary_accuracy', 'categorical_accuracy', 'top_k_categorical_accuracy', 'Precision', 'Recall'])    \n",
    "csv_logger = CSVLogger(\"InceptionResNetV2_model_history_log.csv\", append=True) #to be changed as per model"
   ]
  },
  {
   "cell_type": "code",
   "execution_count": null,
   "metadata": {},
   "outputs": [],
   "source": [
    "model.fit(train_images,train_labels,validation_data=(validate_images,validate_labels),batch_size=32,\n",
    "          epochs=250,callbacks=csv_logger,shuffle=False,class_weight=None,steps_per_epoch=None,\n",
    "          validation_steps=None,\n",
    "          validation_batch_size=None,\n",
    "          validation_freq=1,\n",
    "          max_queue_size=10,\n",
    "          workers=1,\n",
    "          use_multiprocessing=False) #make it 250"
   ]
  },
  {
   "cell_type": "code",
   "execution_count": null,
   "metadata": {},
   "outputs": [],
   "source": [
    "model.save_weights('InceptionResNetV2_weights.h5')\n",
    "model.save('InceptionResNetV2_model.h5')\n",
    "model.load_weights('InceptionResNetV2_weights.h5')"
   ]
  },
  {
   "cell_type": "code",
   "execution_count": null,
   "metadata": {},
   "outputs": [],
   "source": [
    "validate_labels_pred=model.predict(validate_images)\n",
    "validate_labels_pred=np.argmax(validate_labels_pred,axis=1)\n",
    "validate_labels=np.argmax(validate_labels,axis=1)"
   ]
  },
  {
   "cell_type": "code",
   "execution_count": null,
   "metadata": {},
   "outputs": [],
   "source": [
    "print(classification_report(validate_labels,validate_labels_pred))"
   ]
  },
  {
   "cell_type": "code",
   "execution_count": null,
   "metadata": {},
   "outputs": [],
   "source": [
    "test_labels_pred=model.predict(test_images)\n",
    "test_labels_pred=np.argmax(test_labels_pred,axis=1)\n",
    "test_labels=np.argmax(test_labels,axis=1)"
   ]
  },
  {
   "cell_type": "code",
   "execution_count": null,
   "metadata": {},
   "outputs": [],
   "source": [
    "print(classification_report(test_labels,test_labels_pred))"
   ]
  },
  {
   "cell_type": "markdown",
   "metadata": {},
   "source": [
    "4) **InceptionV3**"
   ]
  },
  {
   "cell_type": "code",
   "execution_count": null,
   "metadata": {},
   "outputs": [],
   "source": [
    "base_model=InceptionV3(weights='imagenet', include_top=False,input_shape=(300,300,3))\n",
    "\n",
    "x = base_model.output\n",
    "x = Flatten()(x)\n",
    "predictions = Dense(33, activation='sigmoid',\n",
    "    use_bias=True,\n",
    "    kernel_initializer=\"glorot_uniform\",\n",
    "    bias_initializer=\"zeros\",\n",
    "    kernel_regularizer=None,\n",
    "    bias_regularizer=None,\n",
    "    activity_regularizer=None,\n",
    "    kernel_constraint=None,\n",
    "    bias_constraint=None,)(x)\n",
    "model = Model(inputs=base_model.input, outputs=predictions)\n",
    "for layer in base_model.layers:\n",
    "    layer.trainable = False\n",
    "model.compile(optimizer=Adam(), loss='binary_crossentropy', metrics=['accuracy', 'binary_accuracy', 'categorical_accuracy', 'top_k_categorical_accuracy', 'Precision', 'Recall'])    \n",
    "csv_logger = CSVLogger(\"InceptionV3_model_history_log.csv\", append=True) #to be changed as per model"
   ]
  },
  {
   "cell_type": "code",
   "execution_count": null,
   "metadata": {},
   "outputs": [],
   "source": [
    "model.fit(train_images,train_labels,validation_data=(validate_images,validate_labels),batch_size=32,\n",
    "          epochs=250,callbacks=csv_logger,shuffle=False,class_weight=None,steps_per_epoch=None,\n",
    "          validation_steps=None,\n",
    "          validation_batch_size=None,\n",
    "          validation_freq=1,\n",
    "          max_queue_size=10,\n",
    "          workers=1,\n",
    "          use_multiprocessing=False) #make it 250"
   ]
  },
  {
   "cell_type": "code",
   "execution_count": null,
   "metadata": {},
   "outputs": [],
   "source": [
    "model.save_weights('InceptionV3_weights.h5')\n",
    "model.save('InceptionV3_model.h5')\n",
    "model.load_weights('InceptionV3_weights.h5')"
   ]
  },
  {
   "cell_type": "code",
   "execution_count": null,
   "metadata": {},
   "outputs": [],
   "source": [
    "validate_labels_pred=model.predict(validate_images)\n",
    "validate_labels_pred=np.argmax(validate_labels_pred,axis=1)\n",
    "validate_labels=np.argmax(validate_labels,axis=1)"
   ]
  },
  {
   "cell_type": "code",
   "execution_count": null,
   "metadata": {},
   "outputs": [],
   "source": [
    "print(classification_report(validate_labels,validate_labels_pred))"
   ]
  },
  {
   "cell_type": "code",
   "execution_count": null,
   "metadata": {},
   "outputs": [],
   "source": [
    "test_labels_pred=model.predict(test_images)\n",
    "test_labels_pred=np.argmax(test_labels_pred,axis=1)\n",
    "test_labels=np.argmax(test_labels,axis=1)"
   ]
  },
  {
   "cell_type": "code",
   "execution_count": null,
   "metadata": {},
   "outputs": [],
   "source": [
    "print(classification_report(test_labels,test_labels_pred))"
   ]
  },
  {
   "cell_type": "markdown",
   "metadata": {},
   "source": [
    "5) **MobileNetV2**"
   ]
  },
  {
   "cell_type": "code",
   "execution_count": null,
   "metadata": {},
   "outputs": [],
   "source": [
    "base_model=MobileNetV2(weights='imagenet', include_top=False,input_shape=(300,300,3))\n",
    "\n",
    "x = base_model.output\n",
    "x = Flatten()(x)\n",
    "predictions = Dense(33, activation='sigmoid',\n",
    "    use_bias=True,\n",
    "    kernel_initializer=\"glorot_uniform\",\n",
    "    bias_initializer=\"zeros\",\n",
    "    kernel_regularizer=None,\n",
    "    bias_regularizer=None,\n",
    "    activity_regularizer=None,\n",
    "    kernel_constraint=None,\n",
    "    bias_constraint=None,)(x)\n",
    "model = Model(inputs=base_model.input, outputs=predictions)\n",
    "for layer in base_model.layers:\n",
    "    layer.trainable = False\n",
    "model.compile(optimizer=Adam(), loss='binary_crossentropy', metrics=['accuracy', 'binary_accuracy', 'categorical_accuracy', 'top_k_categorical_accuracy', 'Precision', 'Recall'])\n",
    "csv_logger = CSVLogger(\"MobileNetV2_model_history_log.csv\", append=True) #to be changed as per model    "
   ]
  },
  {
   "cell_type": "code",
   "execution_count": null,
   "metadata": {},
   "outputs": [],
   "source": [
    "model.fit(train_images,train_labels,validation_data=(validate_images,validate_labels),batch_size=32,\n",
    "          epochs=250,callbacks=csv_logger,shuffle=False,class_weight=None,steps_per_epoch=None,\n",
    "          validation_steps=None,\n",
    "          validation_batch_size=None,\n",
    "          validation_freq=1,\n",
    "          max_queue_size=10,\n",
    "          workers=1,\n",
    "          use_multiprocessing=False) #make it 250"
   ]
  },
  {
   "cell_type": "code",
   "execution_count": null,
   "metadata": {},
   "outputs": [],
   "source": [
    "model.save_weights('MobileNetV2_weights.h5')\n",
    "model.save('MobileNetV2_model.h5')\n",
    "model.load_weights('MobileNetV2_weights.h5')"
   ]
  },
  {
   "cell_type": "code",
   "execution_count": null,
   "metadata": {},
   "outputs": [],
   "source": [
    "validate_labels_pred=model.predict(validate_images)\n",
    "validate_labels_pred=np.argmax(validate_labels_pred,axis=1)\n",
    "validate_labels=np.argmax(validate_labels,axis=1)"
   ]
  },
  {
   "cell_type": "code",
   "execution_count": null,
   "metadata": {},
   "outputs": [],
   "source": [
    "print(classification_report(validate_labels,validate_labels_pred))"
   ]
  },
  {
   "cell_type": "code",
   "execution_count": null,
   "metadata": {},
   "outputs": [],
   "source": [
    "test_labels_pred=model.predict(test_images)\n",
    "test_labels_pred=np.argmax(test_labels_pred,axis=1)\n",
    "test_labels=np.argmax(test_labels,axis=1)"
   ]
  },
  {
   "cell_type": "code",
   "execution_count": null,
   "metadata": {},
   "outputs": [],
   "source": [
    "print(classification_report(test_labels,test_labels_pred))"
   ]
  },
  {
   "cell_type": "markdown",
   "metadata": {},
   "source": [
    "6) **NASNetMobile**"
   ]
  },
  {
   "cell_type": "code",
   "execution_count": null,
   "metadata": {},
   "outputs": [],
   "source": [
    "base_model=NASNetMobile(weights='imagenet', include_top=False,input_shape=(300,300,3))\n",
    "\n",
    "x = base_model.output\n",
    "x = Flatten()(x)\n",
    "predictions = Dense(33, activation='sigmoid',\n",
    "    use_bias=True,\n",
    "    kernel_initializer=\"glorot_uniform\",\n",
    "    bias_initializer=\"zeros\",\n",
    "    kernel_regularizer=None,\n",
    "    bias_regularizer=None,\n",
    "    activity_regularizer=None,\n",
    "    kernel_constraint=None,\n",
    "    bias_constraint=None,)(x)\n",
    "model = Model(inputs=base_model.input, outputs=predictions)\n",
    "for layer in base_model.layers:\n",
    "    layer.trainable = False    \n",
    "model.compile(optimizer=Adam(), loss='binary_crossentropy', metrics=['accuracy', 'binary_accuracy', 'categorical_accuracy', 'top_k_categorical_accuracy', 'Precision', 'Recall'])    \n",
    "csv_logger = CSVLogger(\"NASNetMobile_model_history_log.csv\", append=True) #to be changed as per model"
   ]
  },
  {
   "cell_type": "code",
   "execution_count": null,
   "metadata": {},
   "outputs": [],
   "source": [
    "model.fit(train_images,train_labels,validation_data=(validate_images,validate_labels),batch_size=32,\n",
    "          epochs=250,callbacks=csv_logger,shuffle=False,class_weight=None,steps_per_epoch=None,\n",
    "          validation_steps=None,\n",
    "          validation_batch_size=None,\n",
    "          validation_freq=1,\n",
    "          max_queue_size=10,\n",
    "          workers=1,\n",
    "          use_multiprocessing=False) #make it 250"
   ]
  },
  {
   "cell_type": "code",
   "execution_count": null,
   "metadata": {},
   "outputs": [],
   "source": [
    "model.save_weights('NASNetMobile_weights.h5')\n",
    "model.save('NASNetMobile_model.h5')\n",
    "model.load_weights('NASNetMobile_weights.h5')"
   ]
  },
  {
   "cell_type": "code",
   "execution_count": null,
   "metadata": {},
   "outputs": [],
   "source": [
    "validate_labels_pred=model.predict(validate_images)\n",
    "validate_labels_pred=np.argmax(validate_labels_pred,axis=1)\n",
    "validate_labels=np.argmax(validate_labels,axis=1)"
   ]
  },
  {
   "cell_type": "code",
   "execution_count": null,
   "metadata": {},
   "outputs": [],
   "source": [
    "print(classification_report(validate_labels,validate_labels_pred))"
   ]
  },
  {
   "cell_type": "code",
   "execution_count": null,
   "metadata": {},
   "outputs": [],
   "source": [
    "test_labels_pred=model.predict(test_images)\n",
    "test_labels_pred=np.argmax(test_labels_pred,axis=1)\n",
    "test_labels=np.argmax(test_labels,axis=1)"
   ]
  },
  {
   "cell_type": "code",
   "execution_count": null,
   "metadata": {},
   "outputs": [],
   "source": [
    "print(classification_report(test_labels,test_labels_pred))"
   ]
  },
  {
   "cell_type": "markdown",
   "metadata": {},
   "source": [
    "7) **ResNet50V2**"
   ]
  },
  {
   "cell_type": "code",
   "execution_count": null,
   "metadata": {},
   "outputs": [],
   "source": [
    "base_model=ResNet50V2(weights='imagenet', include_top=False,input_shape=(300,300,3))\n",
    "\n",
    "x = base_model.output\n",
    "x = Flatten()(x)\n",
    "predictions = Dense(33, activation='sigmoid',\n",
    "    use_bias=True,\n",
    "    kernel_initializer=\"glorot_uniform\",\n",
    "    bias_initializer=\"zeros\",\n",
    "    kernel_regularizer=None,\n",
    "    bias_regularizer=None,\n",
    "    activity_regularizer=None,\n",
    "    kernel_constraint=None,\n",
    "    bias_constraint=None,)(x)\n",
    "model = Model(inputs=base_model.input, outputs=predictions)\n",
    "for layer in base_model.layers:\n",
    "    layer.trainable = False\n",
    "model.compile(optimizer=Adam(), loss='binary_crossentropy', metrics=['accuracy', 'binary_accuracy', 'categorical_accuracy', 'top_k_categorical_accuracy', 'Precision', 'Recall'])    \n",
    "csv_logger = CSVLogger(\"ResNet50V2_model_history_log.csv\", append=True) #to be changed as per model"
   ]
  },
  {
   "cell_type": "code",
   "execution_count": null,
   "metadata": {},
   "outputs": [],
   "source": [
    "model.fit(train_images,train_labels,validation_data=(validate_images,validate_labels),batch_size=32,\n",
    "          epochs=250,callbacks=csv_logger,shuffle=False,class_weight=None,steps_per_epoch=None,\n",
    "          validation_steps=None,\n",
    "          validation_batch_size=None,\n",
    "          validation_freq=1,\n",
    "          max_queue_size=10,\n",
    "          workers=1,\n",
    "          use_multiprocessing=False) #make it 250"
   ]
  },
  {
   "cell_type": "code",
   "execution_count": null,
   "metadata": {},
   "outputs": [],
   "source": [
    "model.save_weights('ResNet50V2_weights.h5')\n",
    "model.save('ResNet50V2_model.h5')\n",
    "model.load_weights('ResNet50V2_weights.h5')"
   ]
  },
  {
   "cell_type": "code",
   "execution_count": null,
   "metadata": {},
   "outputs": [],
   "source": [
    "validate_labels_pred=model.predict(validate_images)\n",
    "validate_labels_pred=np.argmax(validate_labels_pred,axis=1)\n",
    "validate_labels=np.argmax(validate_labels,axis=1)"
   ]
  },
  {
   "cell_type": "code",
   "execution_count": null,
   "metadata": {},
   "outputs": [],
   "source": [
    "print(classification_report(validate_labels,validate_labels_pred))"
   ]
  },
  {
   "cell_type": "code",
   "execution_count": null,
   "metadata": {},
   "outputs": [],
   "source": [
    "test_labels_pred=model.predict(test_images)\n",
    "test_labels_pred=np.argmax(test_labels_pred,axis=1)\n",
    "test_labels=np.argmax(test_labels,axis=1)"
   ]
  },
  {
   "cell_type": "code",
   "execution_count": null,
   "metadata": {},
   "outputs": [],
   "source": [
    "print(classification_report(test_labels,test_labels_pred))"
   ]
  },
  {
   "cell_type": "markdown",
   "metadata": {},
   "source": [
    "8) **VGG19**"
   ]
  },
  {
   "cell_type": "code",
   "execution_count": null,
   "metadata": {},
   "outputs": [],
   "source": [
    "base_model=VGG19(weights='imagenet', include_top=False,input_shape=(300,300,3))\n",
    "\n",
    "x = base_model.output\n",
    "x = Flatten()(x)\n",
    "predictions = Dense(33, activation='sigmoid',\n",
    "    use_bias=True,\n",
    "    kernel_initializer=\"glorot_uniform\",\n",
    "    bias_initializer=\"zeros\",\n",
    "    kernel_regularizer=None,\n",
    "    bias_regularizer=None,\n",
    "    activity_regularizer=None,\n",
    "    kernel_constraint=None,\n",
    "    bias_constraint=None,)(x)\n",
    "model = Model(inputs=base_model.input, outputs=predictions)\n",
    "for layer in base_model.layers:\n",
    "    layer.trainable = False\n",
    "model.compile(optimizer=Adam(), loss='binary_crossentropy', metrics=['accuracy', 'binary_accuracy', 'categorical_accuracy', 'top_k_categorical_accuracy', 'Precision', 'Recall'])\n",
    "csv_logger = CSVLogger(\"VGG19_model_history_log.csv\", append=True) #to be changed as per model    "
   ]
  },
  {
   "cell_type": "code",
   "execution_count": null,
   "metadata": {},
   "outputs": [],
   "source": [
    "model.fit(train_images,train_labels,validation_data=(validate_images,validate_labels),batch_size=32,\n",
    "          epochs=250,callbacks=csv_logger,shuffle=False,class_weight=None,steps_per_epoch=None,\n",
    "          validation_steps=None,\n",
    "          validation_batch_size=None,\n",
    "          validation_freq=1,\n",
    "          max_queue_size=10,\n",
    "          workers=1,\n",
    "          use_multiprocessing=False) #make it 250"
   ]
  },
  {
   "cell_type": "code",
   "execution_count": null,
   "metadata": {},
   "outputs": [],
   "source": [
    "model.save_weights('VGG19_weights.h5')\n",
    "model.save('VGG19_model.h5')\n",
    "model.load_weights('VGG19_weights.h5')"
   ]
  },
  {
   "cell_type": "code",
   "execution_count": null,
   "metadata": {},
   "outputs": [],
   "source": [
    "validate_labels_pred=model.predict(validate_images)\n",
    "validate_labels_pred=np.argmax(validate_labels_pred,axis=1)\n",
    "validate_labels=np.argmax(validate_labels,axis=1)"
   ]
  },
  {
   "cell_type": "code",
   "execution_count": null,
   "metadata": {},
   "outputs": [],
   "source": [
    "print(classification_report(validate_labels,validate_labels_pred))"
   ]
  },
  {
   "cell_type": "code",
   "execution_count": null,
   "metadata": {},
   "outputs": [],
   "source": [
    "test_labels_pred=model.predict(test_images)\n",
    "test_labels_pred=np.argmax(test_labels_pred,axis=1)\n",
    "test_labels=np.argmax(test_labels,axis=1)"
   ]
  },
  {
   "cell_type": "code",
   "execution_count": null,
   "metadata": {},
   "outputs": [],
   "source": [
    "print(classification_report(test_labels,test_labels_pred))"
   ]
  },
  {
   "cell_type": "markdown",
   "metadata": {},
   "source": [
    "9) **Xception**"
   ]
  },
  {
   "cell_type": "code",
   "execution_count": null,
   "metadata": {},
   "outputs": [],
   "source": [
    "base_model=Xception(weights='imagenet', include_top=False,input_shape=(300,300,3))\n",
    "\n",
    "x = base_model.output\n",
    "x = Flatten()(x)\n",
    "predictions = Dense(33, activation='sigmoid',\n",
    "    use_bias=True,\n",
    "    kernel_initializer=\"glorot_uniform\",\n",
    "    bias_initializer=\"zeros\",\n",
    "    kernel_regularizer=None,\n",
    "    bias_regularizer=None,\n",
    "    activity_regularizer=None,\n",
    "    kernel_constraint=None,\n",
    "    bias_constraint=None,)(x)\n",
    "model = Model(inputs=base_model.input, outputs=predictions)\n",
    "for layer in base_model.layers:\n",
    "    layer.trainable = False\n",
    "model.compile(optimizer=Adam(), loss='binary_crossentropy', metrics=['accuracy', 'binary_accuracy', 'categorical_accuracy', 'top_k_categorical_accuracy', 'Precision', 'Recall'])\n",
    "csv_logger = CSVLogger(\"Xception_model_history_log.csv\", append=True) #to be changed as per model    "
   ]
  },
  {
   "cell_type": "code",
   "execution_count": null,
   "metadata": {},
   "outputs": [],
   "source": [
    "model.fit(train_images,train_labels,validation_data=(validate_images,validate_labels),batch_size=32,\n",
    "          epochs=250,callbacks=csv_logger,shuffle=False,class_weight=None,steps_per_epoch=None,\n",
    "          validation_steps=None,\n",
    "          validation_batch_size=None,\n",
    "          validation_freq=1,\n",
    "          max_queue_size=10,\n",
    "          workers=1,\n",
    "          use_multiprocessing=False) #make it 250"
   ]
  },
  {
   "cell_type": "code",
   "execution_count": null,
   "metadata": {},
   "outputs": [],
   "source": [
    "model.save_weights('Xception_weights.h5')\n",
    "model.save('Xception_model.h5')\n",
    "model.load_weights('Xception_weights.h5')"
   ]
  },
  {
   "cell_type": "code",
   "execution_count": null,
   "metadata": {},
   "outputs": [],
   "source": [
    "validate_labels_pred=model.predict(validate_images)\n",
    "validate_labels_pred=np.argmax(validate_labels_pred,axis=1)\n",
    "validate_labels=np.argmax(validate_labels,axis=1)"
   ]
  },
  {
   "cell_type": "code",
   "execution_count": null,
   "metadata": {},
   "outputs": [],
   "source": [
    "print(classification_report(validate_labels,validate_labels_pred))"
   ]
  },
  {
   "cell_type": "code",
   "execution_count": null,
   "metadata": {},
   "outputs": [],
   "source": [
    "test_labels_pred=model.predict(test_images)\n",
    "test_labels_pred=np.argmax(test_labels_pred,axis=1)\n",
    "test_labels=np.argmax(test_labels,axis=1)"
   ]
  },
  {
   "cell_type": "code",
   "execution_count": null,
   "metadata": {},
   "outputs": [],
   "source": [
    "print(classification_report(test_labels,test_labels_pred))"
   ]
  }
 ],
 "metadata": {
  "language_info": {
   "name": "python"
  }
 },
 "nbformat": 4,
 "nbformat_minor": 2
}
