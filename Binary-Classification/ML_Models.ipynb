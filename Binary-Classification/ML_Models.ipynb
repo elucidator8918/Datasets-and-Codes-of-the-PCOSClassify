{
  "cells": [
    {
      "cell_type": "markdown",
      "metadata": {},
      "source": [
        "### Installing & Importing all the necessary packages\n",
        "\n",
        "Update system packages, install `libgl1`, and install the `openpyxl` library for handling Excel files"
      ]
    },
    {
      "cell_type": "code",
      "execution_count": null,
      "metadata": {},
      "outputs": [],
      "source": [
        "from IPython.display import clear_output\n",
        "\n",
        "!sudo apt-get update && apt-get install libgl1 -y\n",
        "!pip install openpyxl\n",
        "\n",
        "clear_output()"
      ]
    },
    {
      "cell_type": "code",
      "execution_count": 5,
      "metadata": {
        "id": "_-PUUM19YQQV"
      },
      "outputs": [],
      "source": [
        "# Data manipulation and analysis\n",
        "import pandas as pd\n",
        "import numpy as np\n",
        "from sklearn.preprocessing import LabelEncoder\n",
        "from sklearn.model_selection import train_test_split, KFold, GridSearchCV\n",
        "from sklearn.metrics import (accuracy_score, precision_score, recall_score, \n",
        "                             confusion_matrix, classification_report, roc_curve, \n",
        "                             roc_auc_score, f1_score, matthews_corrcoef, hamming_loss, \n",
        "                             precision_recall_curve)\n",
        "\n",
        "# Import classifiers and utilities from scikit-learn for building and managing machine learning models:\n",
        "from sklearn.svm import SVC\n",
        "from sklearn.pipeline import make_pipeline\n",
        "from sklearn.ensemble import RandomForestClassifier\n",
        "from sklearn.naive_bayes import GaussianNB\n",
        "from sklearn.ensemble import AdaBoostClassifier\n",
        "from sklearn.tree import DecisionTreeClassifier\n",
        "from sklearn import metrics\n",
        "from sklearn.neighbors import KNeighborsClassifier\n",
        "from sklearn.neural_network import MLPClassifier\n",
        "from sklearn.ensemble import BaggingClassifier\n",
        "from sklearn.tree import ExtraTreeClassifier\n",
        "from sklearn.linear_model import RidgeClassifier\n",
        "import lightgbm as lgb\n",
        "from xgboost import XGBClassifier\n",
        "\n",
        "# Image processing and augmentation\n",
        "import os\n",
        "from PIL import Image\n",
        "import cv2\n",
        "from tensorflow.keras.preprocessing.image import (load_img, img_to_array, ImageDataGenerator)\n",
        "import albumentations as A\n",
        "from skimage.segmentation import slic, mark_boundaries\n",
        "import skimage.io\n",
        "\n",
        "# Visualization\n",
        "import matplotlib.pyplot as plt\n",
        "import seaborn as sns\n",
        "import sweetviz\n",
        "\n",
        "# Machine learning and deep learning\n",
        "import tensorflow as tf\n",
        "from tensorflow.keras import Sequential\n",
        "from tensorflow.keras.models import Model\n",
        "from tensorflow.keras.layers import (Input, Dense, BatchNormalization, Flatten, Conv2D, \n",
        "                                     MaxPooling2D, Dropout, GlobalAveragePooling2D, \n",
        "                                     LeakyReLU, Activation)\n",
        "from tensorflow.keras.regularizers import l1, l2\n",
        "from tensorflow.keras.optimizers import Adam, Adamax, SGD, Adagrad, Adadelta, RMSprop, Nadam\n",
        "from tensorflow.keras.callbacks import (TensorBoard, ModelCheckpoint, EarlyStopping, \n",
        "                                        History, ReduceLROnPlateau, CSVLogger, LearningRateScheduler)\n",
        "from tensorflow.keras.applications import (VGG19, ResNet152V2, ResNet50V2, ResNet101V2, \n",
        "                                           InceptionV3, InceptionResNetV2, MobileNetV2, \n",
        "                                           DenseNet169, NASNetMobile, EfficientNetB7, ConvNeXtBase)\n",
        "\n",
        "# Explanation and visualization tools\n",
        "from lime import lime_image\n",
        "import shap\n",
        "from IPython.display import Image, display\n",
        "\n",
        "# Miscellaneous\n",
        "import warnings\n",
        "warnings.filterwarnings('ignore')\n",
        "\n",
        "# IPython magic commands for TensorBoard\n",
        "%matplotlib inline\n",
        "%load_ext tensorboard\n",
        "%reload_ext tensorboard\n",
        "\n",
        "# Set plot parameters\n",
        "params = {'figure.figsize': (16, 8),\n",
        "          'legend.fontsize': 16,\n",
        "          'legend.handlelength': 2,\n",
        "          'axes.titlesize': 'large'}\n",
        "sns.set_theme(style=\"white\")\n",
        "plt.rcParams.update(params)"
      ]
    },
    {
      "cell_type": "markdown",
      "metadata": {},
      "source": [
        "### Google drive operations (optional)"
      ]
    },
    {
      "cell_type": "code",
      "execution_count": 9,
      "metadata": {
        "colab": {
          "base_uri": "https://localhost:8080/"
        },
        "id": "69SpmMgIXfsv",
        "outputId": "3a0a5481-7070-4219-9fb6-1334f555986d"
      },
      "outputs": [],
      "source": [
        "#%cd \"/content/drive/MyDrive/PCOS_TL_ML\"\n",
        "# !zip -r save_filename.extension . i folder_location_to_zip\n",
        "#!zip -r folder.zip . i folder_to_zip\n",
        "# !ls"
      ]
    },
    {
      "cell_type": "code",
      "execution_count": 10,
      "metadata": {
        "id": "vTawdVA40W18"
      },
      "outputs": [],
      "source": [
        "#import os\n",
        "#os.environ['KAGGLE_CONFIG_DIR'] = \"/content/drive/MyDrive\"\n",
        "# my kaggle.json file in /content/drive/MyDrive/ColabNotebooks"
      ]
    },
    {
      "cell_type": "code",
      "execution_count": 11,
      "metadata": {
        "colab": {
          "base_uri": "https://localhost:8080/"
        },
        "id": "_zgl8GkP1GZr",
        "outputId": "c18ba51e-df30-4747-fb79-6aea18f53bae"
      },
      "outputs": [],
      "source": [
        "#!pip install kaggle\n",
        "#!kaggle datasets init -p /content/drive/MyDrive/PCOS_TL_ML\n",
        "# my dataset in Resized folder."
      ]
    },
    {
      "cell_type": "code",
      "execution_count": 12,
      "metadata": {
        "colab": {
          "base_uri": "https://localhost:8080/"
        },
        "id": "NfhvMUZQ_tMN",
        "outputId": "c0c6873b-9b56-4d97-d7a6-bd381385a6eb"
      },
      "outputs": [],
      "source": [
        "#!kaggle datasets create -p /content/drive/MyDrive/PCOS_TL_ML --dir-mode zip"
      ]
    },
    {
      "cell_type": "markdown",
      "metadata": {},
      "source": [
        "### Data Loading and Cleaning\n",
        "\n",
        "Load class labels from an Excel file, binary test labels from a CSV, clean the class labels DataFrame by removing empty rows and columns, and display the cleaned data."
      ]
    },
    {
      "cell_type": "code",
      "execution_count": null,
      "metadata": {
        "colab": {
          "base_uri": "https://localhost:8080/",
          "height": 206
        },
        "id": "VXdZF1jMYQEK",
        "outputId": "b2c80f3b-09ba-444b-bc3b-13dcbd95eeae"
      },
      "outputs": [],
      "source": [
        "la1=pd.read_excel('C:/Users/anushka saini/OneDrive/Desktop/AutoPCOS_classification_challenge/dataset/train/class_label.xlsx')\n",
        "la1.head()"
      ]
    },
    {
      "cell_type": "code",
      "execution_count": null,
      "metadata": {
        "colab": {
          "base_uri": "https://localhost:8080/",
          "height": 206
        },
        "id": "PSKpgAdduz8D",
        "outputId": "5785b00a-6edc-44d2-cc4e-3d6a10c5c649"
      },
      "outputs": [],
      "source": [
        "la2 = pd.read_csv('C:/Users/anushka saini/OneDrive/Desktop/AutoPCOS_classification_challenge/dataset/test_label_binary.csv')\n",
        "la2.head()"
      ]
    },
    {
      "cell_type": "code",
      "execution_count": null,
      "metadata": {
        "colab": {
          "base_uri": "https://localhost:8080/"
        },
        "id": "A9zQjpQmYQBF",
        "outputId": "70ea00bb-acef-4a9a-ef49-14e76f7f932e"
      },
      "outputs": [],
      "source": [
        "df = la1.dropna(how='all').dropna(how='all', axis=1)\n",
        "print(df)"
      ]
    },
    {
      "cell_type": "markdown",
      "metadata": {},
      "source": [
        "### Train-Validate Split\n",
        "\n",
        "Split the DataFrame into training and validation sets based on specified percentages, using optional random seed for reproducibility."
      ]
    },
    {
      "cell_type": "code",
      "execution_count": 16,
      "metadata": {
        "id": "R02_5_fpYP-W"
      },
      "outputs": [],
      "source": [
        "def train_validate_split(df, train_percent=.8, validate_percent=.2, seed=None):\n",
        "    np.random.seed(seed)\n",
        "    perm = np.random.permutation(df.index)\n",
        "    m = len(df.index)\n",
        "    train_end = int(train_percent * m)\n",
        "    validate_end = int(validate_percent * m) + train_end\n",
        "    train = df.iloc[perm[:train_end]]\n",
        "    validate = df.iloc[perm[train_end:validate_end]]\n",
        "    # test = df.iloc[perm[validate_end:]]\n",
        "    return train, validate"
      ]
    },
    {
      "cell_type": "code",
      "execution_count": 17,
      "metadata": {
        "id": "ygf8gHX_YP7g"
      },
      "outputs": [],
      "source": [
        "train, validate = train_validate_split(df)"
      ]
    },
    {
      "cell_type": "code",
      "execution_count": null,
      "metadata": {
        "colab": {
          "base_uri": "https://localhost:8080/",
          "height": 423
        },
        "id": "TYbn6GaTYP41",
        "outputId": "58253504-b12f-4d7a-b495-38df322a6cea"
      },
      "outputs": [],
      "source": [
        "train"
      ]
    },
    {
      "cell_type": "code",
      "execution_count": null,
      "metadata": {
        "colab": {
          "base_uri": "https://localhost:8080/",
          "height": 423
        },
        "id": "nwlg8HVcYP1-",
        "outputId": "cfa3a7a8-f06f-4e49-eeaa-92da24f709ce"
      },
      "outputs": [],
      "source": [
        "validate"
      ]
    },
    {
      "cell_type": "markdown",
      "metadata": {},
      "source": [
        "### Image and Label Preparation\n",
        "\n",
        "Map labels, load and preprocess images for training, validation, and testing, and display shapes of image arrays and labels."
      ]
    },
    {
      "cell_type": "code",
      "execution_count": null,
      "metadata": {
        "colab": {
          "base_uri": "https://localhost:8080/"
        },
        "id": "wPO5_bQ9vQz3",
        "outputId": "d87eae7e-4ab1-47ba-d50d-a3dda16f8b69"
      },
      "outputs": [],
      "source": [
        "label_mapping = {1: \"Healthy\", 0: \"Unhealthy\"}\n",
        "df['Label'] = df['Healthy'].map(label_mapping)\n",
        "print(df)"
      ]
    },
    {
      "cell_type": "code",
      "execution_count": 22,
      "metadata": {
        "colab": {
          "base_uri": "https://localhost:8080/"
        },
        "id": "r5Xk0dxgY3f9",
        "outputId": "c449644f-e61d-47e0-f7d4-d47ea4c3f911"
      },
      "outputs": [],
      "source": [
        "train_labels = train[[\"Healthy\"]].values\n",
        "train_image_paths = [os.path.join('C:/Users/anushka saini/OneDrive/Desktop/AutoPCOS_classification_challenge/dataset/train/images', filename) for filename in train['imagePath']] #to change when using GPU. similarly for validate and test\n",
        "train_images = []\n",
        "for train_image_path in train_image_paths:\n",
        "    image = load_img(train_image_path, target_size=(300, 300)) # change this when you run on GPU. 320X320 rahegi\n",
        "    image = img_to_array(image) / 255.0  # Normalize pixel values between 0 and 1\n",
        "    train_images.append(image)\n",
        "train_images = np.array(train_images, dtype=np.float32)"
      ]
    },
    {
      "cell_type": "code",
      "execution_count": null,
      "metadata": {
        "colab": {
          "base_uri": "https://localhost:8080/"
        },
        "id": "sPGlaNmo1Ej9",
        "outputId": "651b3a8f-62eb-4248-d4b2-ffb0d4eaa3b9"
      },
      "outputs": [],
      "source": [
        "train_images.shape"
      ]
    },
    {
      "cell_type": "code",
      "execution_count": null,
      "metadata": {
        "colab": {
          "base_uri": "https://localhost:8080/"
        },
        "id": "HMK7nQJZ1Ej-",
        "outputId": "c08efcc7-4846-4824-ac94-0e23cf506f04"
      },
      "outputs": [],
      "source": [
        "train_labels.shape"
      ]
    },
    {
      "cell_type": "code",
      "execution_count": 25,
      "metadata": {
        "id": "ZnNl0USpY3cV"
      },
      "outputs": [],
      "source": [
        "validate_labels = validate[[\"Healthy\"]].values\n",
        "validate_image_paths = [os.path.join('C:/Users/anushka saini/OneDrive/Desktop/AutoPCOS_classification_challenge/dataset/train/images', filename) for filename in validate['imagePath']]\n",
        "validate_images = []\n",
        "for validate_image_path in validate_image_paths:\n",
        "    image = load_img(validate_image_path, target_size=(300, 300)) # change this when you run on GPU\n",
        "    image = img_to_array(image) / 255.0  # Normalize pixel values between 0 and 1\n",
        "    validate_images.append(image)\n",
        "validate_images = np.array(validate_images, dtype=np.float32)"
      ]
    },
    {
      "cell_type": "code",
      "execution_count": null,
      "metadata": {
        "colab": {
          "base_uri": "https://localhost:8080/"
        },
        "id": "MRpOdnJm1Ej-",
        "outputId": "ffda71a7-8ba9-4ad9-9767-0d3c38608e3b"
      },
      "outputs": [],
      "source": [
        "validate_images.shape"
      ]
    },
    {
      "cell_type": "code",
      "execution_count": null,
      "metadata": {
        "colab": {
          "base_uri": "https://localhost:8080/"
        },
        "id": "lGdWUJC01Ej-",
        "outputId": "59c61701-5dca-4ac8-b4ef-04c6e34e05a3"
      },
      "outputs": [],
      "source": [
        "validate_labels.shape"
      ]
    },
    {
      "cell_type": "code",
      "execution_count": 28,
      "metadata": {
        "id": "FYfe9OREY3Zs"
      },
      "outputs": [],
      "source": [
        "test_labels = la2[[\"Healthy\"]].values\n",
        "test_image_paths = [os.path.join('C:/Users/anushka saini/OneDrive/Desktop/AutoPCOS_classification_challenge/dataset/test/images', filename) for filename in la2['imagePath']]\n",
        "test_images = []\n",
        "for test_image_path in test_image_paths:\n",
        "    image = load_img(test_image_path, target_size=(300, 300)) # change this when you run on GPU\n",
        "    image = img_to_array(image) / 255.0  # Normalize pixel values between 0 and 1\n",
        "    test_images.append(image)\n",
        "test_images = np.array(test_images, dtype=np.float32)"
      ]
    },
    {
      "cell_type": "code",
      "execution_count": null,
      "metadata": {
        "colab": {
          "base_uri": "https://localhost:8080/"
        },
        "id": "hGWkz5zG1Ej-",
        "outputId": "f3ed3bea-ea2d-4b7e-c023-4ad4204d538f"
      },
      "outputs": [],
      "source": [
        "test_images.shape"
      ]
    },
    {
      "cell_type": "code",
      "execution_count": null,
      "metadata": {
        "colab": {
          "base_uri": "https://localhost:8080/"
        },
        "id": "QFe1xvaC1Ej-",
        "outputId": "bba1b712-1507-4e6f-af0b-ce2fd0fae46a"
      },
      "outputs": [],
      "source": [
        "test_labels.shape"
      ]
    },
    {
      "cell_type": "markdown",
      "metadata": {},
      "source": [
        "### Data Reshaping for Classifier\n",
        "\n",
        "Reshape training, validation, and test images into flat arrays for classifier input and print their shapes."
      ]
    },
    {
      "cell_type": "code",
      "execution_count": null,
      "metadata": {
        "colab": {
          "base_uri": "https://localhost:8080/"
        },
        "id": "WznNXY2OY3Wr",
        "outputId": "e4f0caef-6997-4eda-9a7b-f83a46bb6c2f"
      },
      "outputs": [],
      "source": [
        "#train dataset 80% for classifier fitting\n",
        "x_train = train_images.reshape(train_images.shape[0], -1)\n",
        "y_train = train_labels\n",
        "# print(x_train)\n",
        "# print(y_train)\n",
        "print(x_train.shape)\n",
        "print(y_train.shape)"
      ]
    },
    {
      "cell_type": "code",
      "execution_count": null,
      "metadata": {
        "colab": {
          "base_uri": "https://localhost:8080/"
        },
        "id": "nxGo0cGUY3T6",
        "outputId": "ed005cc3-7d05-4464-ca22-91a0c6d75c51"
      },
      "outputs": [],
      "source": [
        "#validation data 20% for classifier prediction\n",
        "x_test_internal = validate_images.reshape(validate_images.shape[0], -1)\n",
        "y_test_internal = validate_labels\n",
        "# print(y_test_internal)\n",
        "print(x_test_internal.shape)\n",
        "print(y_test_internal.shape)"
      ]
    },
    {
      "cell_type": "code",
      "execution_count": null,
      "metadata": {
        "colab": {
          "base_uri": "https://localhost:8080/"
        },
        "id": "MZMXRLqTZJJr",
        "outputId": "ba2e0a02-3b3a-447a-99b3-ab1a0d12276a"
      },
      "outputs": [],
      "source": [
        "x_test_external = test_images.reshape(test_images.shape[0], -1)\n",
        "y_test_external = test_labels\n",
        "# print(y_test_external)\n",
        "print(x_test_external.shape)\n",
        "print(y_test_external.shape)"
      ]
    },
    {
      "cell_type": "markdown",
      "metadata": {},
      "source": [
        "### Model Training and Evaluation\n",
        "\n",
        "Train Multiple classifiers on the training data, then evaluate and print accuracy, balanced accuracy, weighted F1 score, weighted recall, weighted precision, and weighted Jaccard score for both internal and external test datasets."
      ]
    },
    {
      "cell_type": "code",
      "execution_count": null,
      "metadata": {
        "colab": {
          "base_uri": "https://localhost:8080/"
        },
        "id": "fyt9A9LNZIzz",
        "outputId": "440077a9-caff-4621-809f-01791ebcbc6b"
      },
      "outputs": [],
      "source": [
        "clf0 = RandomForestClassifier(max_depth=2, random_state=0).fit(x_train, y_train)\n",
        "ypred0 = clf0.predict(x_test_internal)\n",
        "print(\"Accuracy is\", metrics.accuracy_score(y_test_internal, ypred0) * 100)\n",
        "print(\"Balanced accuracy is\", metrics.balanced_accuracy_score(y_test_internal, ypred0) * 100)\n",
        "print(\"Weighted f1 score is\", metrics.f1_score(y_test_internal, ypred0, average='weighted') * 100)\n",
        "print(\"Weighted recall is\", metrics.recall_score(y_test_internal, ypred0, average='weighted') * 100)\n",
        "print(\"Weighted precision is\", metrics.precision_score(y_test_internal, ypred0, average='weighted') * 100)\n",
        "print(\"Weighted Jaccard score is\", metrics.jaccard_score(y_test_internal, ypred0, average='weighted') * 100)"
      ]
    },
    {
      "cell_type": "code",
      "execution_count": null,
      "metadata": {
        "colab": {
          "base_uri": "https://localhost:8080/"
        },
        "id": "T-39ImpwZQX7",
        "outputId": "55b351d2-a1e5-4d48-9ccc-2e89a7bb482f"
      },
      "outputs": [],
      "source": [
        "ypred1 = clf0.predict(x_test_external)\n",
        "print(\"Accuracy is\", metrics.accuracy_score(y_test_external, ypred1) * 100)\n",
        "print(\"Balanced accuracy is\", metrics.balanced_accuracy_score(y_test_external, ypred1) * 100)\n",
        "print(\"Weighted f1 score is\", metrics.f1_score(y_test_external, ypred1, average='weighted') * 100)\n",
        "print(\"Weighted recall is\", metrics.recall_score(y_test_external, ypred1, average='weighted') * 100)\n",
        "print(\"Weighted precision is\", metrics.precision_score(y_test_external, ypred1, average='weighted') * 100)\n",
        "print(\"Weighted Jaccard score is\", metrics.jaccard_score(y_test_external, ypred1, average='weighted') * 100)"
      ]
    },
    {
      "cell_type": "code",
      "execution_count": null,
      "metadata": {
        "id": "dGwfaVRlZQQJ"
      },
      "outputs": [],
      "source": [
        "clf1 = RidgeClassifier().fit(x_train, y_train)\n",
        "ypred2 = clf1.predict(x_test_internal)\n",
        "print(\"Accuracy is\", metrics.accuracy_score(y_test_internal, ypred2) * 100)\n",
        "print(\"Balanced accuracy is\", metrics.balanced_accuracy_score(y_test_internal, ypred2) * 100)\n",
        "print(\"Weighted f1 score is\", metrics.f1_score(y_test_internal, ypred2, average='weighted') * 100)\n",
        "print(\"Weighted recall is\", metrics.recall_score(y_test_internal, ypred2, average='weighted') * 100)\n",
        "print(\"Weighted precision is\", metrics.precision_score(y_test_internal, ypred2, average='weighted') * 100)\n",
        "print(\"Weighted Jaccard score is\", metrics.jaccard_score(y_test_internal, ypred2, average='weighted') * 100)\n"
      ]
    },
    {
      "cell_type": "code",
      "execution_count": null,
      "metadata": {
        "id": "gN-XCCRYZQMw",
        "outputId": "674e4cc7-693b-4c71-f60b-8a41f10559ff"
      },
      "outputs": [],
      "source": [
        "ypred3 = clf1.predict(x_test_external)\n",
        "print(\"Accuracy is\", metrics.accuracy_score(y_test_external, ypred3) * 100)\n",
        "print(\"Balanced accuracy is\", metrics.balanced_accuracy_score(y_test_external, ypred3) * 100)\n",
        "print(\"Weighted f1 score is\", metrics.f1_score(y_test_external, ypred3, average='weighted') * 100)\n",
        "print(\"Weighted recall is\", metrics.recall_score(y_test_external, ypred3, average='weighted') * 100)\n",
        "print(\"Weighted precision is\", metrics.precision_score(y_test_external, ypred3, average='weighted') * 100)\n",
        "print(\"Weighted Jaccard score is\", metrics.jaccard_score(y_test_external, ypred3, average='weighted') * 100)\n"
      ]
    },
    {
      "cell_type": "code",
      "execution_count": null,
      "metadata": {
        "id": "XY18AbWaZQJd",
        "outputId": "821f6931-7032-4dc1-cfa2-e507c76d65a9"
      },
      "outputs": [],
      "source": [
        "extra_tree = ExtraTreeClassifier(random_state=0)\n",
        "clf2 = BaggingClassifier(extra_tree, random_state=0).fit(x_train, y_train)\n",
        "ypred4 = clf2.predict(x_test_internal)\n",
        "print(\"Accuracy is\", metrics.accuracy_score(y_test_internal, ypred4) * 100)\n",
        "print(\"Balanced accuracy is\", metrics.balanced_accuracy_score(y_test_internal, ypred4) * 100)\n",
        "print(\"Weighted f1 score is\", metrics.f1_score(y_test_internal, ypred4, average='weighted') * 100)\n",
        "print(\"Weighted recall is\", metrics.recall_score(y_test_internal, ypred4, average='weighted') * 100)\n",
        "print(\"Weighted precision is\", metrics.precision_score(y_test_internal, ypred4, average='weighted') * 100)\n",
        "print(\"Weighted Jaccard score is\", metrics.jaccard_score(y_test_internal, ypred4, average='weighted') * 100)"
      ]
    },
    {
      "cell_type": "code",
      "execution_count": null,
      "metadata": {
        "id": "6chVqX7zZQGD",
        "outputId": "cd9333be-88c8-4df7-9bd3-ad1c4732e50b"
      },
      "outputs": [],
      "source": [
        "ypred5 = clf2.predict(x_test_external)\n",
        "print(\"Accuracy is\", metrics.accuracy_score(y_test_external, ypred5) * 100)\n",
        "print(\"Balanced accuracy is\", metrics.balanced_accuracy_score(y_test_external, ypred5) * 100)\n",
        "print(\"Weighted f1 score is\", metrics.f1_score(y_test_external, ypred5, average='weighted') * 100)\n",
        "print(\"Weighted recall is\", metrics.recall_score(y_test_external, ypred5, average='weighted') * 100)\n",
        "print(\"Weighted precision is\", metrics.precision_score(y_test_external, ypred5, average='weighted') * 100)\n",
        "print(\"Weighted Jaccard score is\", metrics.jaccard_score(y_test_external, ypred5, average='weighted') * 100)"
      ]
    },
    {
      "cell_type": "code",
      "execution_count": null,
      "metadata": {
        "id": "C8v7TMbTZcvz",
        "outputId": "3e04b613-be36-43db-c113-79f11ad07ba5"
      },
      "outputs": [],
      "source": [
        "clf3 = MLPClassifier(random_state=1, max_iter=300).fit(x_train, y_train)\n",
        "ypred6 = clf3.predict(x_test_internal)\n",
        "print(\"Accuracy is\", metrics.accuracy_score(y_test_internal, ypred6) * 100)\n",
        "print(\"Balanced accuracy is\", metrics.balanced_accuracy_score(y_test_internal, ypred6) * 100)\n",
        "print(\"Weighted f1 score is\", metrics.f1_score(y_test_internal, ypred6, average='weighted') * 100)\n",
        "print(\"Weighted recall is\", metrics.recall_score(y_test_internal, ypred6, average='weighted') * 100)\n",
        "print(\"Weighted precision is\", metrics.precision_score(y_test_internal, ypred6, average='weighted') * 100)\n",
        "print(\"Weighted Jaccard score is\", metrics.jaccard_score(y_test_internal, ypred6, average='weighted') * 100)"
      ]
    },
    {
      "cell_type": "code",
      "execution_count": null,
      "metadata": {
        "id": "aWcC-rOrZcsN",
        "outputId": "5e6d6597-39a2-481e-ca8a-9761af2099d8"
      },
      "outputs": [],
      "source": [
        "ypred7 = clf3.predict(x_test_external)\n",
        "print(\"Accuracy is\", metrics.accuracy_score(y_test_external, ypred7) * 100)\n",
        "print(\"Balanced accuracy is\", metrics.balanced_accuracy_score(y_test_external, ypred7) * 100)\n",
        "print(\"Weighted f1 score is\", metrics.f1_score(y_test_external, ypred7, average='weighted') * 100)\n",
        "print(\"Weighted recall is\", metrics.recall_score(y_test_external, ypred7, average='weighted') * 100)\n",
        "print(\"Weighted precision is\", metrics.precision_score(y_test_external, ypred7, average='weighted') * 100)\n",
        "print(\"Weighted Jaccard score is\", metrics.jaccard_score(y_test_external, ypred7, average='weighted') * 100)"
      ]
    },
    {
      "cell_type": "code",
      "execution_count": null,
      "metadata": {
        "colab": {
          "base_uri": "https://localhost:8080/"
        },
        "id": "IGBt9iNNZco_",
        "outputId": "d18b770a-f13c-4092-ce50-4e447faed9fc"
      },
      "outputs": [],
      "source": [
        "neigh = KNeighborsClassifier(n_neighbors=3)\n",
        "clf4 = neigh.fit(x_train, y_train)\n",
        "ypred8 = clf4.predict(x_test_internal)\n",
        "print(\"Accuracy is\", metrics.accuracy_score(y_test_internal, ypred8) * 100)\n",
        "print(\"Balanced accuracy is\", metrics.balanced_accuracy_score(y_test_internal, ypred8) * 100)\n",
        "print(\"Weighted f1 score is\", metrics.f1_score(y_test_internal, ypred8, average='weighted') * 100)\n",
        "print(\"Weighted recall is\", metrics.recall_score(y_test_internal, ypred8, average='weighted') * 100)\n",
        "print(\"Weighted precision is\", metrics.precision_score(y_test_internal, ypred8, average='weighted') * 100)\n",
        "print(\"Weighted Jaccard score is\", metrics.jaccard_score(y_test_internal, ypred8, average='weighted') * 100)\n"
      ]
    },
    {
      "cell_type": "code",
      "execution_count": null,
      "metadata": {
        "colab": {
          "base_uri": "https://localhost:8080/"
        },
        "id": "yoPjZh71Zcfn",
        "outputId": "2ba3f2a5-6bbe-40d7-f14c-f0b1afdfc357"
      },
      "outputs": [],
      "source": [
        "ypred9 = clf4.predict(x_test_external)\n",
        "print(\"Accuracy is\", metrics.accuracy_score(y_test_external, ypred9) * 100)\n",
        "print(\"Balanced accuracy is\", metrics.balanced_accuracy_score(y_test_external, ypred9) * 100)\n",
        "print(\"Weighted f1 score is\", metrics.f1_score(y_test_external, ypred9, average='weighted') * 100)\n",
        "print(\"Weighted recall is\", metrics.recall_score(y_test_external, ypred9, average='weighted') * 100)\n",
        "print(\"Weighted precision is\", metrics.precision_score(y_test_external, ypred9, average='weighted') * 100)\n",
        "print(\"Weighted Jaccard score is\", metrics.jaccard_score(y_test_external, ypred9, average='weighted') * 100)"
      ]
    },
    {
      "cell_type": "code",
      "execution_count": null,
      "metadata": {
        "id": "pNwBhHX4ZlnP",
        "outputId": "beddda79-db7f-4766-b3bd-a6b517d097c0"
      },
      "outputs": [],
      "source": [
        "clf5 = DecisionTreeClassifier(random_state=0)\n",
        "clf5 = clf5.fit(x_train, y_train)\n",
        "ypred10 = clf5.predict(x_test_internal)\n",
        "print(\"Accuracy is\", metrics.accuracy_score(y_test_internal, ypred10) * 100)\n",
        "print(\"Balanced accuracy is\", metrics.balanced_accuracy_score(y_test_internal, ypred10) * 100)\n",
        "print(\"Weighted f1 score is\", metrics.f1_score(y_test_internal, ypred10, average='weighted') * 100)\n",
        "print(\"Weighted recall is\", metrics.recall_score(y_test_internal, ypred10, average='weighted') * 100)\n",
        "print(\"Weighted precision is\", metrics.precision_score(y_test_internal, ypred10, average='weighted') * 100)\n",
        "print(\"Weighted Jaccard score is\", metrics.jaccard_score(y_test_internal, ypred10, average='weighted') * 100)"
      ]
    },
    {
      "cell_type": "code",
      "execution_count": null,
      "metadata": {
        "id": "3B0v0lzVZlcR",
        "outputId": "ef7c5182-2e34-4cb1-d910-d7e486cacc55"
      },
      "outputs": [],
      "source": [
        "ypred11 = clf5.predict(x_test_external)\n",
        "print(\"Accuracy is\", metrics.accuracy_score(y_test_external, ypred11) * 100)\n",
        "print(\"Balanced accuracy is\", metrics.balanced_accuracy_score(y_test_external, ypred11) * 100)\n",
        "print(\"Weighted f1 score is\", metrics.f1_score(y_test_external, ypred11, average='weighted') * 100)\n",
        "print(\"Weighted recall is\", metrics.recall_score(y_test_external, ypred11, average='weighted') * 100)\n",
        "print(\"Weighted precision is\", metrics.precision_score(y_test_external, ypred11, average='weighted') * 100)\n",
        "print(\"Weighted Jaccard score is\", metrics.jaccard_score(y_test_external, ypred11, average='weighted') * 100)"
      ]
    },
    {
      "cell_type": "code",
      "execution_count": null,
      "metadata": {
        "id": "7OX-JxFLZp5N",
        "outputId": "6fa09a1c-9622-4cc5-8bf7-f9ada081e3cf"
      },
      "outputs": [],
      "source": [
        "clf6 = AdaBoostClassifier().fit(x_train,y_train)\n",
        "ypred12 = clf6.predict(x_test_internal)\n",
        "print(\"Accuracy is\", metrics.accuracy_score(y_test_internal, ypred12) * 100)\n",
        "print(\"Balanced accuracy is\", metrics.balanced_accuracy_score(y_test_internal, ypred12) * 100)\n",
        "print(\"Weighted f1 score is\", metrics.f1_score(y_test_internal, ypred12, average='weighted') * 100)\n",
        "print(\"Weighted recall is\", metrics.recall_score(y_test_internal, ypred12, average='weighted') * 100)\n",
        "print(\"Weighted precision is\", metrics.precision_score(y_test_internal, ypred12, average='weighted') * 100)\n",
        "print(\"Weighted Jaccard score is\", metrics.jaccard_score(y_test_internal, ypred12, average='weighted') * 100)"
      ]
    },
    {
      "cell_type": "code",
      "execution_count": null,
      "metadata": {
        "id": "wGR_5fsMZute",
        "outputId": "fb0da4a5-a8a8-4b14-de4f-27cdd1971fde"
      },
      "outputs": [],
      "source": [
        "ypred13 = clf6.predict(x_test_external)\n",
        "print(\"Accuracy is\", metrics.accuracy_score(y_test_external, ypred13) * 100)\n",
        "print(\"Balanced accuracy is\", metrics.balanced_accuracy_score(y_test_external, ypred13) * 100)\n",
        "print(\"Weighted f1 score is\", metrics.f1_score(y_test_external, ypred13, average='weighted') * 100)\n",
        "print(\"Weighted recall is\", metrics.recall_score(y_test_external, ypred13, average='weighted') * 100)\n",
        "print(\"Weighted precision is\", metrics.precision_score(y_test_external, ypred13, average='weighted') * 100)\n",
        "print(\"Weighted Jaccard score is\", metrics.jaccard_score(y_test_external, ypred13, average='weighted') * 100)\n"
      ]
    },
    {
      "cell_type": "code",
      "execution_count": null,
      "metadata": {
        "id": "eeyqZNrEZukZ",
        "outputId": "e79aa354-27aa-4a4e-c550-bcd08f426629"
      },
      "outputs": [],
      "source": [
        "clf7 = GaussianNB().fit(x_train,y_train)\n",
        "ypred14 = clf7.predict(x_test_internal)\n",
        "print(\"Accuracy is\", metrics.accuracy_score(y_test_internal, ypred14) * 100)\n",
        "print(\"Balanced accuracy is\", metrics.balanced_accuracy_score(y_test_internal, ypred14) * 100)\n",
        "print(\"Weighted f1 score is\", metrics.f1_score(y_test_internal, ypred14, average='weighted') * 100)\n",
        "print(\"Weighted recall is\", metrics.recall_score(y_test_internal, ypred14, average='weighted') * 100)\n",
        "print(\"Weighted precision is\", metrics.precision_score(y_test_internal, ypred14, average='weighted') * 100)\n",
        "print(\"Weighted Jaccard score is\", metrics.jaccard_score(y_test_internal, ypred14, average='weighted') * 100)"
      ]
    },
    {
      "cell_type": "code",
      "execution_count": null,
      "metadata": {
        "id": "AMLDK0R_ZuhB",
        "outputId": "613c94d2-72b8-4fcb-c41e-26ce180bacd9"
      },
      "outputs": [],
      "source": [
        "ypred15 = clf7.predict(x_test_external)\n",
        "print(\"Accuracy is\", metrics.accuracy_score(y_test_external, ypred15) * 100)\n",
        "print(\"Balanced accuracy is\", metrics.balanced_accuracy_score(y_test_external, ypred15) * 100)\n",
        "print(\"Weighted f1 score is\", metrics.f1_score(y_test_external, ypred15, average='weighted') * 100)\n",
        "print(\"Weighted recall is\", metrics.recall_score(y_test_external, ypred15, average='weighted') * 100)\n",
        "print(\"Weighted precision is\", metrics.precision_score(y_test_external, ypred15, average='weighted') * 100)\n",
        "print(\"Weighted Jaccard score is\", metrics.jaccard_score(y_test_external, ypred15, average='weighted') * 100)"
      ]
    },
    {
      "cell_type": "code",
      "execution_count": null,
      "metadata": {},
      "outputs": [],
      "source": [
        "clf8 = XGBClassifier(max_depth=3, learning_rate=0.1, subsample=0.5)\n",
        "clf8.fit(x_train, y_train)\n",
        "ypred16 = clf8.predict(x_test_internal)\n",
        "\n",
        "# Evaluate the model\n",
        "print(\"Accuracy is\", metrics.accuracy_score(y_test_internal, ypred16) * 100)\n",
        "print(\"Balanced accuracy is\", metrics.balanced_accuracy_score(y_test_internal, ypred16) * 100)\n",
        "print(\"Weighted f1 score is\", metrics.f1_score(y_test_internal, ypred16, average='weighted') * 100)\n",
        "print(\"Weighted recall is\", metrics.recall_score(y_test_internal, ypred16, average='weighted') * 100)\n",
        "print(\"Weighted precision is\", metrics.precision_score(y_test_internal, ypred16, average='weighted') * 100)\n",
        "print(\"Weighted Jaccard score is\", metrics.jaccard_score(y_test_internal, ypred16, average='weighted') * 100)"
      ]
    },
    {
      "cell_type": "code",
      "execution_count": null,
      "metadata": {},
      "outputs": [],
      "source": [
        "ypred17 = clf8.predict(x_test_external)\n",
        "print(\"Accuracy is\", metrics.accuracy_score(y_test_external, ypred17) * 100)\n",
        "print(\"Balanced accuracy is\", metrics.balanced_accuracy_score(y_test_external, ypred17) * 100)\n",
        "print(\"Weighted f1 score is\", metrics.f1_score(y_test_external, ypred17, average='weighted') * 100)\n",
        "print(\"Weighted recall is\", metrics.recall_score(y_test_external, ypred17, average='weighted') * 100)\n",
        "print(\"Weighted precision is\", metrics.precision_score(y_test_external, ypred17, average='weighted') * 100)\n",
        "print(\"Weighted Jaccard score is\", metrics.jaccard_score(y_test_external, ypred17, average='weighted') * 100)"
      ]
    },
    {
      "cell_type": "code",
      "execution_count": null,
      "metadata": {},
      "outputs": [],
      "source": [
        "clf9 = lgb.LGBMClassifier().fit(x_train,y_train)\n",
        "ypred18 = clf9.predict(x_test_internal)\n",
        "print(\"Accuracy is\", metrics.accuracy_score(y_test_internal, ypred18) * 100)\n",
        "print(\"Balanced accuracy is\", metrics.balanced_accuracy_score(y_test_internal, ypred18) * 100)\n",
        "print(\"Weighted f1 score is\", metrics.f1_score(y_test_internal, ypred18, average='weighted') * 100)\n",
        "print(\"Weighted recall is\", metrics.recall_score(y_test_internal, ypred18, average='weighted') * 100)\n",
        "print(\"Weighted precision is\", metrics.precision_score(y_test_internal, ypred18, average='weighted') * 100)\n",
        "print(\"Weighted Jaccard score is\", metrics.jaccard_score(y_test_internal, ypred18, average='weighted') * 100)"
      ]
    },
    {
      "cell_type": "code",
      "execution_count": null,
      "metadata": {},
      "outputs": [],
      "source": [
        "ypred19 = clf9.predict(x_test_external)\n",
        "print(\"Accuracy is\", metrics.accuracy_score(y_test_external, ypred19) * 100)\n",
        "print(\"Balanced accuracy is\", metrics.balanced_accuracy_score(y_test_external, ypred19) * 100)\n",
        "print(\"Weighted f1 score is\", metrics.f1_score(y_test_external, ypred19, average='weighted') * 100)\n",
        "print(\"Weighted recall is\", metrics.recall_score(y_test_external, ypred19, average='weighted') * 100)\n",
        "print(\"Weighted precision is\", metrics.precision_score(y_test_external, ypred19, average='weighted') * 100)\n",
        "print(\"Weighted Jaccard score is\", metrics.jaccard_score(y_test_external, ypred19, average='weighted') * 100)"
      ]
    }
  ],
  "metadata": {
    "colab": {
      "provenance": []
    },
    "kernelspec": {
      "display_name": "Python 3 (ipykernel)",
      "language": "python",
      "name": "python3"
    },
    "language_info": {
      "codemirror_mode": {
        "name": "ipython",
        "version": 3
      },
      "file_extension": ".py",
      "mimetype": "text/x-python",
      "name": "python",
      "nbconvert_exporter": "python",
      "pygments_lexer": "ipython3",
      "version": "3.10.4"
    }
  },
  "nbformat": 4,
  "nbformat_minor": 0
}
