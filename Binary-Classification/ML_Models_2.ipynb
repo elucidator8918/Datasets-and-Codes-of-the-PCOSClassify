{
  "cells": [
    {
      "cell_type": "markdown",
      "metadata": {},
      "source": [
        "### Installing & Importing all the necessary packages\n",
        "\n",
        "Update system packages, install `libgl1` and python packages"
      ]
    },
    {
      "cell_type": "code",
      "execution_count": null,
      "metadata": {},
      "outputs": [],
      "source": [
        "from IPython.display import clear_output\n",
        "\n",
        "!sudo apt-get update && apt-get install libgl1 -y\n",
        "!pip install openpyxl xgboost lightgbm\n",
        "\n",
        "clear_output()"
      ]
    },
    {
      "cell_type": "code",
      "execution_count": null,
      "metadata": {},
      "outputs": [],
      "source": [
        "# Data manipulation and analysis\n",
        "import pandas as pd\n",
        "import numpy as np\n",
        "from sklearn.preprocessing import LabelEncoder\n",
        "from sklearn.model_selection import train_test_split, KFold, GridSearchCV\n",
        "from sklearn.metrics import (accuracy_score, precision_score, recall_score, \n",
        "                             confusion_matrix, classification_report, roc_curve, \n",
        "                             roc_auc_score, f1_score, matthews_corrcoef, hamming_loss, \n",
        "                             precision_recall_curve)\n",
        "\n",
        "# Import classifiers and utilities from scikit-learn for building and managing machine learning models:\n",
        "from sklearn.svm import SVC\n",
        "from sklearn.pipeline import make_pipeline\n",
        "from sklearn.ensemble import RandomForestClassifier\n",
        "from sklearn.naive_bayes import GaussianNB\n",
        "from sklearn.ensemble import AdaBoostClassifier\n",
        "from sklearn.tree import DecisionTreeClassifier\n",
        "from sklearn import metrics\n",
        "from sklearn.neighbors import KNeighborsClassifier\n",
        "from sklearn.neural_network import MLPClassifier\n",
        "from sklearn.ensemble import BaggingClassifier\n",
        "from sklearn.tree import ExtraTreeClassifier\n",
        "from sklearn.linear_model import RidgeClassifier\n",
        "import lightgbm as lgb\n",
        "from xgboost import XGBClassifier\n",
        "\n",
        "# Image processing and augmentation\n",
        "import os\n",
        "from PIL import Image\n",
        "import cv2\n",
        "from tensorflow.keras.preprocessing.image import (load_img, img_to_array, ImageDataGenerator)\n",
        "import albumentations as A\n",
        "from skimage.segmentation import slic, mark_boundaries\n",
        "import skimage.io\n",
        "\n",
        "# Visualization\n",
        "import matplotlib.pyplot as plt\n",
        "import seaborn as sns\n",
        "import sweetviz\n",
        "\n",
        "# Machine learning and deep learning\n",
        "import tensorflow as tf\n",
        "from tensorflow.keras import Sequential\n",
        "from tensorflow.keras.models import Model\n",
        "from tensorflow.keras.layers import (Input, Dense, BatchNormalization, Flatten, Conv2D, \n",
        "                                     MaxPooling2D, Dropout, GlobalAveragePooling2D, \n",
        "                                     LeakyReLU, Activation)\n",
        "from tensorflow.keras.regularizers import l1, l2\n",
        "from tensorflow.keras.optimizers import Adam, Adamax, SGD, Adagrad, Adadelta, RMSprop, Nadam\n",
        "from tensorflow.keras.callbacks import (TensorBoard, ModelCheckpoint, EarlyStopping, \n",
        "                                        History, ReduceLROnPlateau, CSVLogger, LearningRateScheduler)\n",
        "from tensorflow.keras.applications import (VGG19, ResNet152V2, ResNet50V2, ResNet101V2, \n",
        "                                           InceptionV3, InceptionResNetV2, MobileNetV2, \n",
        "                                           DenseNet169, NASNetMobile, EfficientNetB7, ConvNeXtBase)\n",
        "\n",
        "# Explanation and visualization tools\n",
        "from lime import lime_image\n",
        "import shap\n",
        "from IPython.display import Image, display\n",
        "\n",
        "# Miscellaneous\n",
        "import warnings\n",
        "warnings.filterwarnings('ignore')\n",
        "\n",
        "# IPython magic commands for TensorBoard\n",
        "%matplotlib inline\n",
        "%load_ext tensorboard\n",
        "%reload_ext tensorboard\n",
        "\n",
        "# Set plot parameters\n",
        "params = {'figure.figsize': (16, 8),\n",
        "          'legend.fontsize': 16,\n",
        "          'legend.handlelength': 2,\n",
        "          'axes.titlesize': 'large'}\n",
        "sns.set_theme(style=\"white\")\n",
        "plt.rcParams.update(params)"
      ]
    },
    {
      "cell_type": "markdown",
      "metadata": {},
      "source": [
        "### Google drive operations (optional)"
      ]
    },
    {
      "cell_type": "code",
      "execution_count": null,
      "metadata": {},
      "outputs": [],
      "source": [
        "#%cd \"/content/drive/MyDrive/PCOS_TL_ML\"\n",
        "# !zip -r save_filename.extension . i folder_location_to_zip\n",
        "#!zip -r folder.zip . i folder_to_zip\n",
        "# !ls"
      ]
    },
    {
      "cell_type": "code",
      "execution_count": null,
      "metadata": {},
      "outputs": [],
      "source": [
        "#import os\n",
        "#os.environ['KAGGLE_CONFIG_DIR'] = \"/content/drive/MyDrive\"\n",
        "# my kaggle.json file in /content/drive/MyDrive/ColabNotebooks"
      ]
    },
    {
      "cell_type": "code",
      "execution_count": null,
      "metadata": {},
      "outputs": [],
      "source": [
        "#!pip install kaggle\n",
        "#!kaggle datasets init -p /content/drive/MyDrive/PCOS_TL_ML\n",
        "# my dataset in Resized folder."
      ]
    },
    {
      "cell_type": "code",
      "execution_count": null,
      "metadata": {},
      "outputs": [],
      "source": [
        "#!kaggle datasets create -p /content/drive/MyDrive/PCOS_TL_ML --dir-mode zip"
      ]
    },
    {
      "cell_type": "markdown",
      "metadata": {},
      "source": [
        "### Data Loading and Cleaning\n",
        "\n",
        "Load class labels from an Excel file, binary test labels from a CSV, clean the class labels DataFrame by removing empty rows and columns, and display the cleaned data."
      ]
    },
    {
      "cell_type": "code",
      "execution_count": null,
      "metadata": {},
      "outputs": [
        {
          "data": {
            "text/html": [
              "<div>\n",
              "<style scoped>\n",
              "    .dataframe tbody tr th:only-of-type {\n",
              "        vertical-align: middle;\n",
              "    }\n",
              "\n",
              "    .dataframe tbody tr th {\n",
              "        vertical-align: top;\n",
              "    }\n",
              "\n",
              "    .dataframe thead th {\n",
              "        text-align: right;\n",
              "    }\n",
              "</style>\n",
              "<table border=\"1\" class=\"dataframe\">\n",
              "  <thead>\n",
              "    <tr style=\"text-align: right;\">\n",
              "      <th></th>\n",
              "      <th>imagePath</th>\n",
              "      <th>Healthy</th>\n",
              "    </tr>\n",
              "  </thead>\n",
              "  <tbody>\n",
              "    <tr>\n",
              "      <th>0</th>\n",
              "      <td>100image13.jpg</td>\n",
              "      <td>1</td>\n",
              "    </tr>\n",
              "    <tr>\n",
              "      <th>1</th>\n",
              "      <td>100image2.jpg</td>\n",
              "      <td>1</td>\n",
              "    </tr>\n",
              "    <tr>\n",
              "      <th>2</th>\n",
              "      <td>100image65.jpg</td>\n",
              "      <td>0</td>\n",
              "    </tr>\n",
              "    <tr>\n",
              "      <th>3</th>\n",
              "      <td>100image71.jpg</td>\n",
              "      <td>0</td>\n",
              "    </tr>\n",
              "    <tr>\n",
              "      <th>4</th>\n",
              "      <td>100image83.jpg</td>\n",
              "      <td>0</td>\n",
              "    </tr>\n",
              "  </tbody>\n",
              "</table>\n",
              "</div>"
            ],
            "text/plain": [
              "        imagePath  Healthy\n",
              "0  100image13.jpg        1\n",
              "1   100image2.jpg        1\n",
              "2  100image65.jpg        0\n",
              "3  100image71.jpg        0\n",
              "4  100image83.jpg        0"
            ]
          },
          "metadata": {},
          "output_type": "display_data"
        }
      ],
      "source": [
        "la1=pd.read_excel('C:/Users/anushka saini/OneDrive/Desktop/AutoPCOS_classification_challenge/dataset/train/class_label.xlsx')\n",
        "la1.head()"
      ]
    },
    {
      "cell_type": "code",
      "execution_count": null,
      "metadata": {},
      "outputs": [
        {
          "data": {
            "text/html": [
              "<div>\n",
              "<style scoped>\n",
              "    .dataframe tbody tr th:only-of-type {\n",
              "        vertical-align: middle;\n",
              "    }\n",
              "\n",
              "    .dataframe tbody tr th {\n",
              "        vertical-align: top;\n",
              "    }\n",
              "\n",
              "    .dataframe thead th {\n",
              "        text-align: right;\n",
              "    }\n",
              "</style>\n",
              "<table border=\"1\" class=\"dataframe\">\n",
              "  <thead>\n",
              "    <tr style=\"text-align: right;\">\n",
              "      <th></th>\n",
              "      <th>imagePath</th>\n",
              "      <th>Healthy</th>\n",
              "    </tr>\n",
              "  </thead>\n",
              "  <tbody>\n",
              "    <tr>\n",
              "      <th>0</th>\n",
              "      <td>image10000.jpg</td>\n",
              "      <td>1</td>\n",
              "    </tr>\n",
              "    <tr>\n",
              "      <th>1</th>\n",
              "      <td>image10001.jpg</td>\n",
              "      <td>0</td>\n",
              "    </tr>\n",
              "    <tr>\n",
              "      <th>2</th>\n",
              "      <td>image10002.jpg</td>\n",
              "      <td>1</td>\n",
              "    </tr>\n",
              "    <tr>\n",
              "      <th>3</th>\n",
              "      <td>image10003.jpg</td>\n",
              "      <td>0</td>\n",
              "    </tr>\n",
              "    <tr>\n",
              "      <th>4</th>\n",
              "      <td>image10004.jpg</td>\n",
              "      <td>0</td>\n",
              "    </tr>\n",
              "  </tbody>\n",
              "</table>\n",
              "</div>"
            ],
            "text/plain": [
              "        imagePath  Healthy\n",
              "0  image10000.jpg        1\n",
              "1  image10001.jpg        0\n",
              "2  image10002.jpg        1\n",
              "3  image10003.jpg        0\n",
              "4  image10004.jpg        0"
            ]
          },
          "metadata": {},
          "output_type": "display_data"
        }
      ],
      "source": [
        "la2 = pd.read_csv('C:/Users/anushka saini/OneDrive/Desktop/AutoPCOS_classification_challenge/dataset/test_label_binary.csv')\n",
        "la2.head()"
      ]
    },
    {
      "cell_type": "code",
      "execution_count": null,
      "metadata": {},
      "outputs": [
        {
          "name": "stdout",
          "output_type": "stream",
          "text": [
            "           imagePath  Healthy\n",
            "0     100image13.jpg        1\n",
            "1      100image2.jpg        1\n",
            "2     100image65.jpg        0\n",
            "3     100image71.jpg        0\n",
            "4     100image83.jpg        0\n",
            "...              ...      ...\n",
            "3195       pco_4.jpg        1\n",
            "3196       pco_5.jpg        0\n",
            "3197       pco_6.jpg        0\n",
            "3198       pco_7.jpg        0\n",
            "3199       pco_8.jpg        0\n",
            "\n",
            "[3200 rows x 2 columns]\n"
          ]
        }
      ],
      "source": [
        "df = la1.dropna(how='all').dropna(how='all', axis=1)\n",
        "print(df)"
      ]
    },
    {
      "cell_type": "markdown",
      "metadata": {},
      "source": [
        "### Train-Validate Split\n",
        "\n",
        "Split the DataFrame into training and validation sets based on specified percentages, using optional random seed for reproducibility."
      ]
    },
    {
      "cell_type": "code",
      "execution_count": null,
      "metadata": {},
      "outputs": [],
      "source": [
        "def train_validate_split(df, train_percent=.8, validate_percent=.2, seed=None):\n",
        "    np.random.seed(seed)\n",
        "    perm = np.random.permutation(df.index)\n",
        "    m = len(df.index)\n",
        "    train_end = int(train_percent * m)\n",
        "    validate_end = int(validate_percent * m) + train_end\n",
        "    train = df.iloc[perm[:train_end]]\n",
        "    validate = df.iloc[perm[train_end:validate_end]]\n",
        "    # test = df.iloc[perm[validate_end:]]\n",
        "    return train, validate"
      ]
    },
    {
      "cell_type": "code",
      "execution_count": null,
      "metadata": {},
      "outputs": [],
      "source": [
        "train, validate = train_validate_split(df)"
      ]
    },
    {
      "cell_type": "code",
      "execution_count": null,
      "metadata": {},
      "outputs": [
        {
          "data": {
            "text/html": [
              "<div>\n",
              "<style scoped>\n",
              "    .dataframe tbody tr th:only-of-type {\n",
              "        vertical-align: middle;\n",
              "    }\n",
              "\n",
              "    .dataframe tbody tr th {\n",
              "        vertical-align: top;\n",
              "    }\n",
              "\n",
              "    .dataframe thead th {\n",
              "        text-align: right;\n",
              "    }\n",
              "</style>\n",
              "<table border=\"1\" class=\"dataframe\">\n",
              "  <thead>\n",
              "    <tr style=\"text-align: right;\">\n",
              "      <th></th>\n",
              "      <th>imagePath</th>\n",
              "      <th>Healthy</th>\n",
              "    </tr>\n",
              "  </thead>\n",
              "  <tbody>\n",
              "    <tr>\n",
              "      <th>881</th>\n",
              "      <td>image0436.jpg</td>\n",
              "      <td>0</td>\n",
              "    </tr>\n",
              "    <tr>\n",
              "      <th>1439</th>\n",
              "      <td>image1044.jpg</td>\n",
              "      <td>0</td>\n",
              "    </tr>\n",
              "    <tr>\n",
              "      <th>1028</th>\n",
              "      <td>image0592.jpg</td>\n",
              "      <td>0</td>\n",
              "    </tr>\n",
              "    <tr>\n",
              "      <th>208</th>\n",
              "      <td>191image0.jpg</td>\n",
              "      <td>0</td>\n",
              "    </tr>\n",
              "    <tr>\n",
              "      <th>10</th>\n",
              "      <td>102image93.jpg</td>\n",
              "      <td>0</td>\n",
              "    </tr>\n",
              "    <tr>\n",
              "      <th>...</th>\n",
              "      <td>...</td>\n",
              "      <td>...</td>\n",
              "    </tr>\n",
              "    <tr>\n",
              "      <th>2920</th>\n",
              "      <td>image3581.jpg</td>\n",
              "      <td>1</td>\n",
              "    </tr>\n",
              "    <tr>\n",
              "      <th>23</th>\n",
              "      <td>108image0081.jpg</td>\n",
              "      <td>0</td>\n",
              "    </tr>\n",
              "    <tr>\n",
              "      <th>1288</th>\n",
              "      <td>image0874.jpg</td>\n",
              "      <td>0</td>\n",
              "    </tr>\n",
              "    <tr>\n",
              "      <th>2161</th>\n",
              "      <td>image2678.jpg</td>\n",
              "      <td>0</td>\n",
              "    </tr>\n",
              "    <tr>\n",
              "      <th>1136</th>\n",
              "      <td>image0705.jpg</td>\n",
              "      <td>0</td>\n",
              "    </tr>\n",
              "  </tbody>\n",
              "</table>\n",
              "<p>2560 rows × 2 columns</p>\n",
              "</div>"
            ],
            "text/plain": [
              "             imagePath  Healthy\n",
              "881      image0436.jpg        0\n",
              "1439     image1044.jpg        0\n",
              "1028     image0592.jpg        0\n",
              "208      191image0.jpg        0\n",
              "10      102image93.jpg        0\n",
              "...                ...      ...\n",
              "2920     image3581.jpg        1\n",
              "23    108image0081.jpg        0\n",
              "1288     image0874.jpg        0\n",
              "2161     image2678.jpg        0\n",
              "1136     image0705.jpg        0\n",
              "\n",
              "[2560 rows x 2 columns]"
            ]
          },
          "metadata": {},
          "output_type": "display_data"
        }
      ],
      "source": [
        "train"
      ]
    },
    {
      "cell_type": "code",
      "execution_count": null,
      "metadata": {},
      "outputs": [
        {
          "data": {
            "text/html": [
              "<div>\n",
              "<style scoped>\n",
              "    .dataframe tbody tr th:only-of-type {\n",
              "        vertical-align: middle;\n",
              "    }\n",
              "\n",
              "    .dataframe tbody tr th {\n",
              "        vertical-align: top;\n",
              "    }\n",
              "\n",
              "    .dataframe thead th {\n",
              "        text-align: right;\n",
              "    }\n",
              "</style>\n",
              "<table border=\"1\" class=\"dataframe\">\n",
              "  <thead>\n",
              "    <tr style=\"text-align: right;\">\n",
              "      <th></th>\n",
              "      <th>imagePath</th>\n",
              "      <th>Healthy</th>\n",
              "    </tr>\n",
              "  </thead>\n",
              "  <tbody>\n",
              "    <tr>\n",
              "      <th>327</th>\n",
              "      <td>3309image24.jpg</td>\n",
              "      <td>0</td>\n",
              "    </tr>\n",
              "    <tr>\n",
              "      <th>247</th>\n",
              "      <td>217image26.jpg</td>\n",
              "      <td>0</td>\n",
              "    </tr>\n",
              "    <tr>\n",
              "      <th>2281</th>\n",
              "      <td>image2835.jpg</td>\n",
              "      <td>1</td>\n",
              "    </tr>\n",
              "    <tr>\n",
              "      <th>2752</th>\n",
              "      <td>image3386.jpg</td>\n",
              "      <td>0</td>\n",
              "    </tr>\n",
              "    <tr>\n",
              "      <th>366</th>\n",
              "      <td>518image25.jpg</td>\n",
              "      <td>0</td>\n",
              "    </tr>\n",
              "    <tr>\n",
              "      <th>...</th>\n",
              "      <td>...</td>\n",
              "      <td>...</td>\n",
              "    </tr>\n",
              "    <tr>\n",
              "      <th>1299</th>\n",
              "      <td>image0885.jpg</td>\n",
              "      <td>0</td>\n",
              "    </tr>\n",
              "    <tr>\n",
              "      <th>895</th>\n",
              "      <td>image0450.jpg</td>\n",
              "      <td>0</td>\n",
              "    </tr>\n",
              "    <tr>\n",
              "      <th>1347</th>\n",
              "      <td>image0939.jpg</td>\n",
              "      <td>0</td>\n",
              "    </tr>\n",
              "    <tr>\n",
              "      <th>1651</th>\n",
              "      <td>image1607.jpg</td>\n",
              "      <td>0</td>\n",
              "    </tr>\n",
              "    <tr>\n",
              "      <th>2089</th>\n",
              "      <td>image2597.jpg</td>\n",
              "      <td>1</td>\n",
              "    </tr>\n",
              "  </tbody>\n",
              "</table>\n",
              "<p>640 rows × 2 columns</p>\n",
              "</div>"
            ],
            "text/plain": [
              "            imagePath  Healthy\n",
              "327   3309image24.jpg        0\n",
              "247    217image26.jpg        0\n",
              "2281    image2835.jpg        1\n",
              "2752    image3386.jpg        0\n",
              "366    518image25.jpg        0\n",
              "...               ...      ...\n",
              "1299    image0885.jpg        0\n",
              "895     image0450.jpg        0\n",
              "1347    image0939.jpg        0\n",
              "1651    image1607.jpg        0\n",
              "2089    image2597.jpg        1\n",
              "\n",
              "[640 rows x 2 columns]"
            ]
          },
          "metadata": {},
          "output_type": "display_data"
        }
      ],
      "source": [
        "validate"
      ]
    },
    {
      "cell_type": "markdown",
      "metadata": {},
      "source": [
        "### Image and Label Preparation\n",
        "\n",
        "Map labels, load and preprocess images for training, validation, and testing, and display shapes of image arrays and labels."
      ]
    },
    {
      "cell_type": "code",
      "execution_count": null,
      "metadata": {},
      "outputs": [
        {
          "name": "stdout",
          "output_type": "stream",
          "text": [
            "           imagePath  Healthy      Label\n",
            "0     100image13.jpg        1    Healthy\n",
            "1      100image2.jpg        1    Healthy\n",
            "2     100image65.jpg        0  Unhealthy\n",
            "3     100image71.jpg        0  Unhealthy\n",
            "4     100image83.jpg        0  Unhealthy\n",
            "...              ...      ...        ...\n",
            "3195       pco_4.jpg        1    Healthy\n",
            "3196       pco_5.jpg        0  Unhealthy\n",
            "3197       pco_6.jpg        0  Unhealthy\n",
            "3198       pco_7.jpg        0  Unhealthy\n",
            "3199       pco_8.jpg        0  Unhealthy\n",
            "\n",
            "[3200 rows x 3 columns]\n"
          ]
        }
      ],
      "source": [
        "label_mapping = {1: \"Healthy\", 0: \"Unhealthy\"}\n",
        "df['Label'] = df['Healthy'].map(label_mapping)\n",
        "print(df)"
      ]
    },
    {
      "cell_type": "code",
      "execution_count": null,
      "metadata": {},
      "outputs": [],
      "source": [
        "train_labels = train[[\"Healthy\"]].values\n",
        "train_image_paths = [os.path.join('C:/Users/anushka saini/OneDrive/Desktop/AutoPCOS_classification_challenge/dataset/train/images', filename) for filename in train['imagePath']] #to change when using GPU. similarly for validate and test\n",
        "train_images = []\n",
        "for train_image_path in train_image_paths:\n",
        "    image = load_img(train_image_path, target_size=(300, 300)) # change this when you run on GPU. 320X320 rahegi\n",
        "    image = img_to_array(image) / 255.0  # Normalize pixel values between 0 and 1\n",
        "    train_images.append(image)\n",
        "train_images = np.array(train_images, dtype=np.float32)"
      ]
    },
    {
      "cell_type": "code",
      "execution_count": null,
      "metadata": {},
      "outputs": [
        {
          "data": {
            "text/plain": [
              "(2560, 300, 300, 3)"
            ]
          },
          "metadata": {},
          "output_type": "display_data"
        }
      ],
      "source": [
        "train_images.shape"
      ]
    },
    {
      "cell_type": "code",
      "execution_count": null,
      "metadata": {},
      "outputs": [
        {
          "data": {
            "text/plain": [
              "(2560, 1)"
            ]
          },
          "metadata": {},
          "output_type": "display_data"
        }
      ],
      "source": [
        "train_labels.shape"
      ]
    },
    {
      "cell_type": "code",
      "execution_count": null,
      "metadata": {},
      "outputs": [],
      "source": [
        "validate_labels = validate[[\"Healthy\"]].values\n",
        "validate_image_paths = [os.path.join('C:/Users/anushka saini/OneDrive/Desktop/AutoPCOS_classification_challenge/dataset/train/images', filename) for filename in validate['imagePath']]\n",
        "validate_images = []\n",
        "for validate_image_path in validate_image_paths:\n",
        "    image = load_img(validate_image_path, target_size=(300, 300)) # change this when you run on GPU\n",
        "    image = img_to_array(image) / 255.0  # Normalize pixel values between 0 and 1\n",
        "    validate_images.append(image)\n",
        "validate_images = np.array(validate_images, dtype=np.float32)"
      ]
    },
    {
      "cell_type": "code",
      "execution_count": null,
      "metadata": {},
      "outputs": [
        {
          "data": {
            "text/plain": [
              "(640, 300, 300, 3)"
            ]
          },
          "metadata": {},
          "output_type": "display_data"
        }
      ],
      "source": [
        "validate_images.shape"
      ]
    },
    {
      "cell_type": "code",
      "execution_count": null,
      "metadata": {},
      "outputs": [
        {
          "data": {
            "text/plain": [
              "(640, 1)"
            ]
          },
          "metadata": {},
          "output_type": "display_data"
        }
      ],
      "source": [
        "validate_labels.shape"
      ]
    },
    {
      "cell_type": "code",
      "execution_count": null,
      "metadata": {},
      "outputs": [],
      "source": [
        "test_labels = la2[[\"Healthy\"]].values\n",
        "test_image_paths = [os.path.join('C:/Users/anushka saini/OneDrive/Desktop/AutoPCOS_classification_challenge/dataset/test/images', filename) for filename in la2['imagePath']]\n",
        "test_images = []\n",
        "for test_image_path in test_image_paths:\n",
        "    image = load_img(test_image_path, target_size=(300, 300)) # change this when you run on GPU\n",
        "    image = img_to_array(image) / 255.0  # Normalize pixel values between 0 and 1\n",
        "    test_images.append(image)\n",
        "test_images = np.array(test_images, dtype=np.float32)"
      ]
    },
    {
      "cell_type": "code",
      "execution_count": null,
      "metadata": {},
      "outputs": [
        {
          "data": {
            "text/plain": [
              "(1468, 300, 300, 3)"
            ]
          },
          "metadata": {},
          "output_type": "display_data"
        }
      ],
      "source": [
        "test_images.shape"
      ]
    },
    {
      "cell_type": "code",
      "execution_count": null,
      "metadata": {},
      "outputs": [
        {
          "data": {
            "text/plain": [
              "(1468, 1)"
            ]
          },
          "metadata": {},
          "output_type": "display_data"
        }
      ],
      "source": [
        "test_labels.shape"
      ]
    },
    {
      "cell_type": "markdown",
      "metadata": {},
      "source": [
        "### Data Reshaping for Classifier\n",
        "\n",
        "Reshape training, validation, and test images into flat arrays for classifier input and print their shapes."
      ]
    },
    {
      "cell_type": "code",
      "execution_count": null,
      "metadata": {},
      "outputs": [
        {
          "name": "stdout",
          "output_type": "stream",
          "text": [
            "(2560, 270000)\n",
            "(2560, 1)\n"
          ]
        }
      ],
      "source": [
        "#train dataset 80% for classifier fitting\n",
        "x_train = train_images.reshape(train_images.shape[0], -1)\n",
        "y_train = train_labels\n",
        "# print(x_train)\n",
        "# print(y_train)\n",
        "print(x_train.shape)\n",
        "print(y_train.shape)"
      ]
    },
    {
      "cell_type": "code",
      "execution_count": null,
      "metadata": {},
      "outputs": [
        {
          "name": "stdout",
          "output_type": "stream",
          "text": [
            "(640, 270000)\n",
            "(640, 1)\n"
          ]
        }
      ],
      "source": [
        "#validation data 20% for classifier prediction\n",
        "x_test_internal = validate_images.reshape(validate_images.shape[0], -1)\n",
        "y_test_internal = validate_labels\n",
        "# print(y_test_internal)\n",
        "print(x_test_internal.shape)\n",
        "print(y_test_internal.shape)"
      ]
    },
    {
      "cell_type": "code",
      "execution_count": null,
      "metadata": {},
      "outputs": [
        {
          "name": "stdout",
          "output_type": "stream",
          "text": [
            "(1468, 270000)\n",
            "(1468, 1)\n"
          ]
        }
      ],
      "source": [
        "x_test_external = test_images.reshape(test_images.shape[0], -1)\n",
        "y_test_external = test_labels\n",
        "# print(y_test_external)\n",
        "print(x_test_external.shape)\n",
        "print(y_test_external.shape)"
      ]
    },
    {
      "cell_type": "markdown",
      "metadata": {},
      "source": [
        "### Model Training and Evaluation\n",
        "\n",
        "Train Multiple classifiers on the training data, then evaluate and print accuracy, balanced accuracy, weighted F1 score, weighted recall, weighted precision, and weighted Jaccard score for both internal and external test datasets."
      ]
    },
    {
      "cell_type": "code",
      "execution_count": 34,
      "metadata": {
        "id": "2DAjWvI2ZueW",
        "outputId": "a927cb20-059a-4e50-dede-2d78ada3262a"
      },
      "outputs": [
        {
          "name": "stdout",
          "output_type": "stream",
          "text": [
            "Accuracy is 78.125\n",
            "Balanced accuracy is 65.27162589173601\n",
            "Weighted f1 score is 77.13293353229652\n",
            "Weighted recall is 78.125\n",
            "Weighted precision is 76.59622153209109\n",
            "Weighted Jaccard score is 65.37600211378341\n"
          ]
        }
      ],
      "source": [
        "'''from xgboost import XGBClassifier\n",
        "clf8 = XGBClassifier().fit(x_train,y_train)\n",
        "ypred16 = clf8.predict(x_test_internal)\n",
        "print(\"Accuracy is\", metrics.accuracy_score(y_test_internal, ypred16) * 100)\n",
        "print(\"Balanced accuracy is\", metrics.balanced_accuracy_score(y_test_internal, ypred16) * 100)\n",
        "print(\"Weighted f1 score is\", metrics.f1_score(y_test_internal, ypred16, average='weighted') * 100)\n",
        "print(\"Weighted recall is\", metrics.recall_score(y_test_internal, ypred16, average='weighted') * 100)\n",
        "print(\"Weighted precision is\", metrics.precision_score(y_test_internal, ypred16, average='weighted') * 100)\n",
        "print(\"Weighted Jaccard score is\", metrics.jaccard_score(y_test_internal, ypred16, average='weighted') * 100)'''\n",
        "\n",
        "# Adjust hyperparameters as needed\n",
        "clf = XGBClassifier(max_depth=3, learning_rate=0.1, subsample=0.5)\n",
        "clf.fit(x_train, y_train)\n",
        "ypred = clf.predict(x_test_internal)\n",
        "\n",
        "# Evaluate the model\n",
        "print(\"Accuracy is\", metrics.accuracy_score(y_test_internal, ypred) * 100)\n",
        "print(\"Balanced accuracy is\", metrics.balanced_accuracy_score(y_test_internal, ypred) * 100)\n",
        "print(\"Weighted f1 score is\", metrics.f1_score(y_test_internal, ypred, average='weighted') * 100)\n",
        "print(\"Weighted recall is\", metrics.recall_score(y_test_internal, ypred, average='weighted') * 100)\n",
        "print(\"Weighted precision is\", metrics.precision_score(y_test_internal, ypred, average='weighted') * 100)\n",
        "print(\"Weighted Jaccard score is\", metrics.jaccard_score(y_test_internal, ypred, average='weighted') * 100)"
      ]
    },
    {
      "cell_type": "code",
      "execution_count": 35,
      "metadata": {
        "id": "sQAwmarKZpxc",
        "outputId": "172d7f9d-2a29-439e-d384-0ed9b111d946"
      },
      "outputs": [
        {
          "name": "stdout",
          "output_type": "stream",
          "text": [
            "Accuracy is 86.37602179836512\n",
            "Balanced accuracy is 79.41871051208508\n",
            "Weighted f1 score is 85.71119108155597\n",
            "Weighted recall is 86.37602179836512\n",
            "Weighted precision is 86.23964533243871\n",
            "Weighted Jaccard score is 75.86334489657233\n"
          ]
        }
      ],
      "source": [
        "'''ypred17 = clf8.predict(x_test_external)\n",
        "print(\"Accuracy is\", metrics.accuracy_score(y_test_external, ypred17) * 100)\n",
        "print(\"Balanced accuracy is\", metrics.balanced_accuracy_score(y_test_external, ypred17) * 100)\n",
        "print(\"Weighted f1 score is\", metrics.f1_score(y_test_external, ypred17, average='weighted') * 100)\n",
        "print(\"Weighted recall is\", metrics.recall_score(y_test_external, ypred17, average='weighted') * 100)\n",
        "print(\"Weighted precision is\", metrics.precision_score(y_test_external, ypred17, average='weighted') * 100)\n",
        "print(\"Weighted Jaccard score is\", metrics.jaccard_score(y_test_external, ypred17, average='weighted') * 100)'''\n",
        "\n",
        "ypred17 = clf.predict(x_test_external)\n",
        "print(\"Accuracy is\", metrics.accuracy_score(y_test_external, ypred17) * 100)\n",
        "print(\"Balanced accuracy is\", metrics.balanced_accuracy_score(y_test_external, ypred17) * 100)\n",
        "print(\"Weighted f1 score is\", metrics.f1_score(y_test_external, ypred17, average='weighted') * 100)\n",
        "print(\"Weighted recall is\", metrics.recall_score(y_test_external, ypred17, average='weighted') * 100)\n",
        "print(\"Weighted precision is\", metrics.precision_score(y_test_external, ypred17, average='weighted') * 100)\n",
        "print(\"Weighted Jaccard score is\", metrics.jaccard_score(y_test_external, ypred17, average='weighted') * 100)"
      ]
    },
    {
      "cell_type": "code",
      "execution_count": 36,
      "metadata": {
        "id": "I_ci9JET1EkF",
        "outputId": "5298df3c-dad5-410a-d31f-f0dbc675b2e5"
      },
      "outputs": [
        {
          "name": "stdout",
          "output_type": "stream",
          "text": [
            "[LightGBM] [Info] Number of positive: 756, number of negative: 1804\n",
            "[LightGBM] [Info] Auto-choosing col-wise multi-threading, the overhead of testing was 25.882862 seconds.\n",
            "You can set `force_col_wise=true` to remove the overhead.\n",
            "[LightGBM] [Info] Total Bins 47025184\n",
            "[LightGBM] [Info] Number of data points in the train set: 2560, number of used features: 270000\n",
            "[LightGBM] [Info] [binary:BoostFromScore]: pavg=0.295312 -> initscore=-0.869720\n",
            "[LightGBM] [Info] Start training from score -0.869720\n",
            "Accuracy is 79.53125\n",
            "Balanced accuracy is 66.66183714865255\n",
            "Weighted f1 score is 78.42797681534816\n",
            "Weighted recall is 79.53125\n",
            "Weighted precision is 77.9773531303602\n",
            "Weighted Jaccard score is 67.00127665538066\n"
          ]
        }
      ],
      "source": [
        "clf9 = lgb.LGBMClassifier().fit(x_train,y_train)\n",
        "ypred18 = clf9.predict(x_test_internal)\n",
        "print(\"Accuracy is\", metrics.accuracy_score(y_test_internal, ypred18) * 100)\n",
        "print(\"Balanced accuracy is\", metrics.balanced_accuracy_score(y_test_internal, ypred18) * 100)\n",
        "print(\"Weighted f1 score is\", metrics.f1_score(y_test_internal, ypred18, average='weighted') * 100)\n",
        "print(\"Weighted recall is\", metrics.recall_score(y_test_internal, ypred18, average='weighted') * 100)\n",
        "print(\"Weighted precision is\", metrics.precision_score(y_test_internal, ypred18, average='weighted') * 100)\n",
        "print(\"Weighted Jaccard score is\", metrics.jaccard_score(y_test_internal, ypred18, average='weighted') * 100)"
      ]
    },
    {
      "cell_type": "code",
      "execution_count": 37,
      "metadata": {
        "id": "dzCvNq231EkF",
        "outputId": "22d83fb2-9a36-414a-b1b2-e1eba4c83eeb"
      },
      "outputs": [
        {
          "name": "stdout",
          "output_type": "stream",
          "text": [
            "Accuracy is 86.10354223433242\n",
            "Balanced accuracy is 78.43278184303175\n",
            "Weighted f1 score is 85.27710192055629\n",
            "Weighted recall is 86.10354223433242\n",
            "Weighted precision is 86.12935329683256\n",
            "Weighted Jaccard score is 75.2991404862292\n"
          ]
        }
      ],
      "source": [
        "ypred19 = clf9.predict(x_test_external)\n",
        "print(\"Accuracy is\", metrics.accuracy_score(y_test_external, ypred19) * 100)\n",
        "print(\"Balanced accuracy is\", metrics.balanced_accuracy_score(y_test_external, ypred19) * 100)\n",
        "print(\"Weighted f1 score is\", metrics.f1_score(y_test_external, ypred19, average='weighted') * 100)\n",
        "print(\"Weighted recall is\", metrics.recall_score(y_test_external, ypred19, average='weighted') * 100)\n",
        "print(\"Weighted precision is\", metrics.precision_score(y_test_external, ypred19, average='weighted') * 100)\n",
        "print(\"Weighted Jaccard score is\", metrics.jaccard_score(y_test_external, ypred19, average='weighted') * 100)"
      ]
    }
  ],
  "metadata": {
    "colab": {
      "provenance": []
    },
    "kernelspec": {
      "display_name": "Python 3 (ipykernel)",
      "language": "python",
      "name": "python3"
    },
    "language_info": {
      "codemirror_mode": {
        "name": "ipython",
        "version": 3
      },
      "file_extension": ".py",
      "mimetype": "text/x-python",
      "name": "python",
      "nbconvert_exporter": "python",
      "pygments_lexer": "ipython3",
      "version": "3.10.4"
    }
  },
  "nbformat": 4,
  "nbformat_minor": 0
}
