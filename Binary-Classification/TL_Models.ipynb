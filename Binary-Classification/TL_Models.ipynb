{
  "cells": [
    {
      "cell_type": "markdown",
      "metadata": {},
      "source": [
        "### Installing & Importing all the necessary packages\n",
        "\n",
        "Update system packages, install `libgl1`, and install the `openpyxl` library for handling Excel files\n",
        "\n",
        "- **`albumentations`**: Library for image augmentation to enhance training data diversity.\n",
        "- **`sweetviz`**: Generates high-density visualizations of pandas DataFrames for quick data analysis.\n",
        "- **`grad-cam`**: Visualizes important image regions for CNN predictions using Grad-CAM.\n",
        "- **`lime`**: Provides local explanations for machine learning model predictions.\n",
        "- **`pandas_profiling`**: Creates detailed reports of pandas DataFrames for exploratory data analysis.\n",
        "- **`shap`**: Explains model predictions by attributing feature contributions using Shapley values.\n",
        "- **`Keras-Preprocessing`**: Offers utilities for preprocessing data, including image and text transformations."
      ]
    },
    {
      "cell_type": "code",
      "execution_count": null,
      "metadata": {},
      "outputs": [],
      "source": [
        "from IPython.display import clear_output\n",
        "\n",
        "!sudo apt-get update && apt-get install libgl1 -y\n",
        "!pip install openpyxl -q\n",
        "!pip install albumentations sweetviz grad-cam lime pandas_profiling shap Keras-Preprocessing -q\n",
        "\n",
        "clear_output()"
      ]
    },
    {
      "cell_type": "code",
      "execution_count": null,
      "metadata": {},
      "outputs": [],
      "source": [
        "# Standard Libraries\n",
        "import os\n",
        "import math\n",
        "import shutil\n",
        "import warnings\n",
        "from typing import Dict, Optional\n",
        "\n",
        "# Data Handling\n",
        "import pandas as pd\n",
        "import numpy as np\n",
        "import cv2\n",
        "from PIL import Image\n",
        "\n",
        "# Plotting\n",
        "import matplotlib.pyplot as plt\n",
        "import seaborn as sns\n",
        "import matplotlib.cm as cm\n",
        "from matplotlib.colors import LinearSegmentedColormap\n",
        "\n",
        "# Skimage\n",
        "from skimage.segmentation import slic, mark_boundaries\n",
        "\n",
        "# TensorFlow and Keras\n",
        "import tensorflow as tf\n",
        "from tensorflow.keras.preprocessing.image import load_img, img_to_array, ImageDataGenerator\n",
        "from tensorflow.keras import Sequential, Model\n",
        "from tensorflow.keras.layers import Input, Dense, BatchNormalization, Flatten, Conv2D, MaxPooling2D, Dropout, GlobalAveragePooling2D, LeakyReLU\n",
        "from tensorflow.keras.optimizers import Adam, Adamax\n",
        "from tensorflow.keras.applications import ResNet50V2, ResNet101V2, InceptionV3, InceptionResNetV2, MobileNetV2, DenseNet169, NASNetMobile, EfficientNetB7, ConvNeXtBase\n",
        "from tensorflow.keras.callbacks import TensorBoard, ModelCheckpoint, EarlyStopping, ReduceLROnPlateau, CSVLogger, LearningRateScheduler\n",
        "\n",
        "# Keras (Standalone)\n",
        "import keras\n",
        "from keras.models import Sequential, Model, load_model\n",
        "from keras.layers import Dense, Dropout, Flatten, Conv2D, MaxPooling2D, BatchNormalization\n",
        "from keras.optimizers import Adam, SGD, Adagrad, Adadelta, RMSprop, Nadam\n",
        "from keras.utils import to_categorical\n",
        "from keras.callbacks import EarlyStopping, ModelCheckpoint, History, ReduceLROnPlateau, CSVLogger, LearningRateScheduler\n",
        "\n",
        "# Machine Learning\n",
        "from sklearn.model_selection import train_test_split, KFold, GridSearchCV\n",
        "from sklearn.preprocessing import LabelEncoder\n",
        "from sklearn.metrics import (accuracy_score, precision_score, recall_score, classification_report,\n",
        "                             confusion_matrix, roc_curve, roc_auc_score, matthews_corrcoef, hamming_loss, f1_score, precision_recall_curve)\n",
        "\n",
        "# Lime and Shap\n",
        "from lime import lime_image\n",
        "import shap\n",
        "\n",
        "# PyTorch Grad-CAM\n",
        "from pytorch_grad_cam import GradCAM\n",
        "\n",
        "# Sweetviz (for EDA)\n",
        "import sweetviz\n",
        "\n",
        "# IPython for display\n",
        "from IPython.display import Image, display\n",
        "\n",
        "# Magic commands (for Jupyter Notebooks)\n",
        "%matplotlib inline\n",
        "%load_ext tensorboard\n",
        "%reload_ext tensorboard"
      ]
    },
    {
      "cell_type": "code",
      "execution_count": null,
      "metadata": {
        "colab": {
          "base_uri": "https://localhost:8080/"
        },
        "id": "8OQnc2JiCRS2",
        "outputId": "779dc54c-56d1-4472-9d3d-2dd174d8eb45"
      },
      "outputs": [],
      "source": [
        "from google.colab import drive\n",
        "drive.mount('/content/drive')"
      ]
    },
    {
      "cell_type": "markdown",
      "metadata": {},
      "source": [
        "### Data Loading and Cleaning\n",
        "\n",
        "Load class labels from an Excel file, binary test labels from a CSV, clean the class labels DataFrame by removing empty rows and columns, and display the cleaned data."
      ]
    },
    {
      "cell_type": "code",
      "execution_count": null,
      "metadata": {
        "colab": {
          "base_uri": "https://localhost:8080/",
          "height": 423
        },
        "id": "x5pTnUWlHLiR",
        "outputId": "652c4079-a05e-41ca-8351-37008f173bcc"
      },
      "outputs": [],
      "source": [
        "la1=pd.read_excel('/content/drive/MyDrive/PCOS_TL_ML/train/class_label.xlsx')\n",
        "la1"
      ]
    },
    {
      "cell_type": "code",
      "execution_count": null,
      "metadata": {
        "colab": {
          "base_uri": "https://localhost:8080/",
          "height": 423
        },
        "id": "cVmRplpIHLeu",
        "outputId": "c985cf8b-5d69-4e58-81bb-d022e825b0fe"
      },
      "outputs": [],
      "source": [
        "la2 = pd.read_csv('/content/drive/MyDrive/PCOS_TL_ML/test/test_label_binary.csv')\n",
        "la2"
      ]
    },
    {
      "cell_type": "code",
      "execution_count": null,
      "metadata": {
        "colab": {
          "base_uri": "https://localhost:8080/"
        },
        "id": "0vXJwXMjIjJT",
        "outputId": "9b18f3db-bdb3-4dab-93d0-a236161bdf0c"
      },
      "outputs": [],
      "source": [
        "df = la1.dropna(how='all').dropna(how='all', axis=1)\n",
        "print(df)"
      ]
    },
    {
      "cell_type": "markdown",
      "metadata": {},
      "source": [
        "### Train-Validate Split\n",
        "\n",
        "Split the DataFrame into training and validation sets based on specified percentages, using optional random seed for reproducibility."
      ]
    },
    {
      "cell_type": "code",
      "execution_count": null,
      "metadata": {
        "id": "KixEo680HLcY"
      },
      "outputs": [],
      "source": [
        "def train_validate_split(df, train_percent=.8, validate_percent=.2, seed=None):\n",
        "    np.random.seed(seed)\n",
        "    perm = np.random.permutation(df.index)\n",
        "    m = len(df.index)\n",
        "    train_end = int(train_percent * m)\n",
        "    validate_end = int(validate_percent * m) + train_end\n",
        "    train = df.iloc[perm[:train_end]]\n",
        "    validate = df.iloc[perm[train_end:validate_end]]\n",
        "    # test = df.iloc[perm[validate_end:]]\n",
        "    return train, validate"
      ]
    },
    {
      "cell_type": "code",
      "execution_count": null,
      "metadata": {
        "colab": {
          "base_uri": "https://localhost:8080/",
          "height": 423
        },
        "id": "F-oiWhZwHLaA",
        "outputId": "fcead3ec-4cc2-47f2-e52d-8b58ccce8be1"
      },
      "outputs": [],
      "source": [
        "train, validate = train_validate_split(df)\n",
        "train"
      ]
    },
    {
      "cell_type": "code",
      "execution_count": null,
      "metadata": {
        "colab": {
          "base_uri": "https://localhost:8080/",
          "height": 423
        },
        "id": "y3601tzCHLXz",
        "outputId": "792757ff-02ee-4673-ac5b-422d19c50125"
      },
      "outputs": [],
      "source": [
        "validate"
      ]
    },
    {
      "cell_type": "markdown",
      "metadata": {},
      "source": [
        "### Image and Label Preparation\n",
        "\n",
        "Map labels, load and preprocess images for training, validation, and testing, and display shapes of image arrays and labels."
      ]
    },
    {
      "cell_type": "code",
      "execution_count": null,
      "metadata": {
        "id": "GRKDfV7uHK4t"
      },
      "outputs": [],
      "source": [
        "label_mapping = {1: \"Healthy\", 0: \"Unhealthy\"}\n",
        "df['Label'] = df['Healthy'].map(label_mapping)"
      ]
    },
    {
      "cell_type": "code",
      "execution_count": null,
      "metadata": {
        "id": "2fz_MqsxHK1h"
      },
      "outputs": [],
      "source": [
        "train_labels = train[[\"Healthy\"]].values\n",
        "train_image_paths = [os.path.join('/content/drive/MyDrive/PCOS_TL_ML/train/images', filename) for filename in train['imagePath']] #to change when using GPU. similarly for validate and test\n",
        "train_images = []\n",
        "for train_image_path in train_image_paths:\n",
        "    image = load_img(train_image_path, target_size=(300, 300)) # change this when you run on GPU. 320X320 rahegi\n",
        "    image = img_to_array(image) / 255.0  # Normalize pixel values between 0 and 1\n",
        "    train_images.append(image)\n",
        "train_images = np.array(train_images, dtype=np.float32)"
      ]
    },
    {
      "cell_type": "code",
      "execution_count": null,
      "metadata": {
        "colab": {
          "base_uri": "https://localhost:8080/"
        },
        "id": "I_a3_05nHKys",
        "outputId": "670a6713-b907-4474-a88a-652262025e7b"
      },
      "outputs": [],
      "source": [
        "train_images.shape"
      ]
    },
    {
      "cell_type": "code",
      "execution_count": null,
      "metadata": {
        "colab": {
          "base_uri": "https://localhost:8080/"
        },
        "id": "fQyyjTglHKvm",
        "outputId": "d4d0a21b-ba00-4a2e-985c-d7702b6d875a"
      },
      "outputs": [],
      "source": [
        "train_labels.shape"
      ]
    },
    {
      "cell_type": "code",
      "execution_count": null,
      "metadata": {
        "id": "e91fVzY0HKs1"
      },
      "outputs": [],
      "source": [
        "validate_labels = validate[[\"Healthy\"]].values\n",
        "validate_image_paths = [os.path.join('/content/drive/MyDrive/PCOS_TL_ML/train/images', filename) for filename in validate['imagePath']]\n",
        "validate_images = []\n",
        "for validate_image_path in validate_image_paths:\n",
        "    image = load_img(validate_image_path, target_size=(300, 300)) # change this when you run on GPU\n",
        "    image = img_to_array(image) / 255.0  # Normalize pixel values between 0 and 1\n",
        "    validate_images.append(image)\n",
        "validate_images = np.array(validate_images, dtype=np.float32)"
      ]
    },
    {
      "cell_type": "code",
      "execution_count": null,
      "metadata": {
        "colab": {
          "base_uri": "https://localhost:8080/"
        },
        "id": "gbBBJfuqHjBC",
        "outputId": "baecbd17-c03a-4c1d-badc-3c30adb85fd3"
      },
      "outputs": [],
      "source": [
        "validate_images.shape"
      ]
    },
    {
      "cell_type": "code",
      "execution_count": null,
      "metadata": {
        "colab": {
          "base_uri": "https://localhost:8080/"
        },
        "id": "iuJjtVQrHi9p",
        "outputId": "fe0f1e48-a13a-47bc-cd5f-20728bfe10ac"
      },
      "outputs": [],
      "source": [
        "validate_labels.shape"
      ]
    },
    {
      "cell_type": "code",
      "execution_count": null,
      "metadata": {
        "id": "XMdsNIZTHi63"
      },
      "outputs": [],
      "source": [
        "test_labels = la2[[\"Healthy\"]].values\n",
        "test_image_paths = [os.path.join('/content/drive/MyDrive/PCOS_TL_ML/test/images', filename) for filename in la2['imagePath']]\n",
        "test_images = []\n",
        "for test_image_path in test_image_paths:\n",
        "    image = load_img(test_image_path, target_size=(300, 300)) # change this when you run on GPU\n",
        "    image = img_to_array(image) / 255.0  # Normalize pixel values between 0 and 1\n",
        "    test_images.append(image)\n",
        "test_images = np.array(test_images, dtype=np.float32)"
      ]
    },
    {
      "cell_type": "code",
      "execution_count": null,
      "metadata": {
        "colab": {
          "base_uri": "https://localhost:8080/"
        },
        "id": "eco59jTjHi4F",
        "outputId": "30cfb03a-f9f5-4192-dbfb-dcdbe2435beb"
      },
      "outputs": [],
      "source": [
        "test_images.shape"
      ]
    },
    {
      "cell_type": "code",
      "execution_count": null,
      "metadata": {
        "colab": {
          "base_uri": "https://localhost:8080/"
        },
        "id": "f3Z7VpOeHKi-",
        "outputId": "40660568-19d3-48bd-fb3b-20484723c2ef"
      },
      "outputs": [],
      "source": [
        "test_labels.shape"
      ]
    },
    {
      "cell_type": "markdown",
      "metadata": {},
      "source": [
        "### Model Evaluation\n",
        "\n",
        "Load a pre-trained model, make predictions on validation and test sets, apply binary classification threshold, and generate classification reports."
      ]
    },
    {
      "cell_type": "markdown",
      "metadata": {
        "id": "6MXi50InQsxU"
      },
      "source": [
        "1) **InceptionResNetV2**"
      ]
    },
    {
      "cell_type": "code",
      "execution_count": null,
      "metadata": {
        "id": "cD-sbe8f6-0z"
      },
      "outputs": [],
      "source": [
        "# Load the model\n",
        "model_path = '/content/drive/MyDrive/PCOS_TL_ML/BinaryLabel/Transfer Learning/InceptionResNetV2/InceptionResNetV2_model.h5'\n",
        "model = load_model(model_path)"
      ]
    },
    {
      "cell_type": "code",
      "execution_count": null,
      "metadata": {
        "colab": {
          "base_uri": "https://localhost:8080/"
        },
        "id": "McmI-c4L-KgY",
        "outputId": "8a2f37ef-0142-49d0-aea7-b28846fc57e1"
      },
      "outputs": [],
      "source": [
        "validate_labels_pred = model.predict(validate_images)\n",
        "\n",
        "# Apply threshold for binary classification\n",
        "threshold = 0.5\n",
        "validate_labels_pred_binary = (validate_labels_pred > threshold).astype(int)\n",
        "\n",
        "# Extract binary labels\n",
        "validate_labels = validate[[\"Healthy\"]].values\n",
        "\n",
        "# Generate classification report\n",
        "print(classification_report(validate_labels, validate_labels_pred_binary))"
      ]
    },
    {
      "cell_type": "code",
      "execution_count": null,
      "metadata": {
        "colab": {
          "base_uri": "https://localhost:8080/"
        },
        "id": "34hP60gIV2NY",
        "outputId": "b4b7cc93-323f-4911-d901-7d56301add03"
      },
      "outputs": [],
      "source": [
        "test_labels_pred = model.predict(test_images)\n",
        "\n",
        "# Apply threshold for binary classification\n",
        "threshold = 0.5\n",
        "test_labels_pred_binary = (test_labels_pred > threshold).astype(int)\n",
        "\n",
        "# Extract binary labels\n",
        "test_labels = la2[[\"Healthy\"]].values\n",
        "\n",
        "# Generate classification report\n",
        "print(classification_report(test_labels, test_labels_pred_binary))\n"
      ]
    },
    {
      "cell_type": "markdown",
      "metadata": {
        "id": "lARlpED3Qx4a"
      },
      "source": [
        "2) **InceptionV3**"
      ]
    },
    {
      "cell_type": "code",
      "execution_count": null,
      "metadata": {
        "id": "_8RbPV2MXMM8"
      },
      "outputs": [],
      "source": [
        "# Load the model\n",
        "model_path2 = '/content/drive/MyDrive/PCOS_TL_ML/BinaryLabel/Transfer Learning/InceptionV3/InceptionV3_model.h5'\n",
        "model2 = load_model(model_path2)"
      ]
    },
    {
      "cell_type": "code",
      "execution_count": null,
      "metadata": {
        "colab": {
          "base_uri": "https://localhost:8080/"
        },
        "id": "AK31bzf1KjEX",
        "outputId": "0552d4d0-b5b6-411a-f048-2e80d6711de9"
      },
      "outputs": [],
      "source": [
        "validate_labels_pred2 = model2.predict(validate_images)\n",
        "\n",
        "# Apply threshold for binary classification\n",
        "threshold = 0.5\n",
        "validate_labels_pred_binary2 = (validate_labels_pred2 > threshold).astype(int)\n",
        "\n",
        "# Extract binary labels\n",
        "validate_labels = validate[[\"Healthy\"]].values\n",
        "\n",
        "# Generate classification report\n",
        "print(classification_report(validate_labels, validate_labels_pred_binary2))"
      ]
    },
    {
      "cell_type": "code",
      "execution_count": null,
      "metadata": {
        "colab": {
          "base_uri": "https://localhost:8080/"
        },
        "id": "_1IMbdt6Ki4o",
        "outputId": "ecad6741-d441-4085-b450-acf42d87963a"
      },
      "outputs": [],
      "source": [
        "test_labels_pred2 = model2.predict(test_images)\n",
        "\n",
        "# Apply threshold for binary classification\n",
        "threshold = 0.5\n",
        "test_labels_pred_binary2 = (test_labels_pred2 > threshold).astype(int)\n",
        "\n",
        "# Extract binary labels\n",
        "test_labels = la2[[\"Healthy\"]].values\n",
        "\n",
        "# Generate classification report\n",
        "print(classification_report(test_labels, test_labels_pred_binary2))"
      ]
    },
    {
      "cell_type": "markdown",
      "metadata": {
        "id": "0cDN3su5Q9_k"
      },
      "source": [
        "3) **MobileNetV2**"
      ]
    },
    {
      "cell_type": "code",
      "execution_count": null,
      "metadata": {
        "id": "N9AdYfV7Pn-l"
      },
      "outputs": [],
      "source": [
        "# Load the model\n",
        "model_path3 = '/content/drive/MyDrive/PCOS_TL_ML/BinaryLabel/Transfer Learning/MobileNetV2/MobileNetV2_model.h5'\n",
        "model3 = load_model(model_path3)"
      ]
    },
    {
      "cell_type": "code",
      "execution_count": null,
      "metadata": {
        "colab": {
          "base_uri": "https://localhost:8080/"
        },
        "id": "DK2Gj4FaQoO_",
        "outputId": "cd261c01-a12a-43f9-ed40-0aad62eee9ee"
      },
      "outputs": [],
      "source": [
        "validate_labels_pred3 = model3.predict(validate_images)\n",
        "\n",
        "# Apply threshold for binary classification\n",
        "threshold = 0.5\n",
        "validate_labels_pred_binary3 = (validate_labels_pred3 > threshold).astype(int)\n",
        "\n",
        "# Extract binary labels\n",
        "validate_labels = validate[[\"Healthy\"]].values\n",
        "\n",
        "# Generate classification report\n",
        "print(classification_report(validate_labels, validate_labels_pred_binary3))"
      ]
    },
    {
      "cell_type": "code",
      "execution_count": null,
      "metadata": {
        "colab": {
          "base_uri": "https://localhost:8080/"
        },
        "id": "jrn4qbCgQqO1",
        "outputId": "62338c0a-e4f7-44e5-cf28-91f0cda6474c"
      },
      "outputs": [],
      "source": [
        "test_labels_pred3 = model3.predict(test_images)\n",
        "\n",
        "# Apply threshold for binary classification\n",
        "threshold = 0.5\n",
        "test_labels_pred_binary3 = (test_labels_pred3 > threshold).astype(int)\n",
        "\n",
        "# Extract binary labels\n",
        "test_labels = la2[[\"Healthy\"]].values\n",
        "\n",
        "# Generate classification report\n",
        "print(classification_report(test_labels, test_labels_pred_binary3))"
      ]
    },
    {
      "cell_type": "markdown",
      "metadata": {
        "id": "Nvi2kmFPUpb6"
      },
      "source": [
        "4) **NasnetMobile**"
      ]
    },
    {
      "cell_type": "code",
      "execution_count": null,
      "metadata": {
        "id": "IKvXGLY8TCMV"
      },
      "outputs": [],
      "source": [
        "# Load the model\n",
        "model_path4 = '/content/drive/MyDrive/PCOS_TL_ML/BinaryLabel/Transfer Learning/NasNetMoblie/NASNetMobile_model.h5'\n",
        "model4 = load_model(model_path4)"
      ]
    },
    {
      "cell_type": "code",
      "execution_count": null,
      "metadata": {
        "colab": {
          "base_uri": "https://localhost:8080/"
        },
        "id": "dObtn1z1UdfC",
        "outputId": "aa591da8-e4c2-4250-9f27-e4058871a986"
      },
      "outputs": [],
      "source": [
        "validate_labels_pred4 = model4.predict(validate_images)\n",
        "\n",
        "# Apply threshold for binary classification\n",
        "threshold = 0.5\n",
        "validate_labels_pred_binary4 = (validate_labels_pred4 > threshold).astype(int)\n",
        "\n",
        "# Extract binary labels\n",
        "validate_labels = validate[[\"Healthy\"]].values\n",
        "\n",
        "# Generate classification report\n",
        "print(classification_report(validate_labels, validate_labels_pred_binary4))"
      ]
    },
    {
      "cell_type": "code",
      "execution_count": null,
      "metadata": {
        "colab": {
          "base_uri": "https://localhost:8080/"
        },
        "id": "XiQS-T_WUdaO",
        "outputId": "2690d79b-e8bb-4f20-8fe2-b425641ac63b"
      },
      "outputs": [],
      "source": [
        "test_labels_pred4 = model4.predict(test_images)\n",
        "\n",
        "# Apply threshold for binary classification\n",
        "threshold = 0.5\n",
        "test_labels_pred_binary4 = (test_labels_pred4 > threshold).astype(int)\n",
        "\n",
        "# Extract binary labels\n",
        "test_labels = la2[[\"Healthy\"]].values\n",
        "\n",
        "# Generate classification report\n",
        "print(classification_report(test_labels, test_labels_pred_binary4))"
      ]
    },
    {
      "cell_type": "markdown",
      "metadata": {
        "id": "O1SM1U3aXGZa"
      },
      "source": [
        "5) **Resnet50V2**"
      ]
    },
    {
      "cell_type": "code",
      "execution_count": null,
      "metadata": {
        "id": "Eu6ScjbDWYP_"
      },
      "outputs": [],
      "source": [
        "# Load the model\n",
        "model_path5 = '/content/drive/MyDrive/PCOS_TL_ML/BinaryLabel/Transfer Learning/ResNet50v2/ResNet50V2_model.h5'\n",
        "model5 = load_model(model_path5)"
      ]
    },
    {
      "cell_type": "code",
      "execution_count": null,
      "metadata": {
        "colab": {
          "base_uri": "https://localhost:8080/"
        },
        "id": "JvqjUNuJWlpw",
        "outputId": "8c52b98e-2594-4fbc-e363-b9fa901387df"
      },
      "outputs": [],
      "source": [
        "validate_labels_pred5 = model5.predict(validate_images)\n",
        "\n",
        "# Apply threshold for binary classification\n",
        "threshold = 0.5\n",
        "validate_labels_pred_binary5 = (validate_labels_pred5 > threshold).astype(int)\n",
        "\n",
        "# Extract binary labels\n",
        "validate_labels = validate[[\"Healthy\"]].values\n",
        "\n",
        "# Generate classification report\n",
        "print(classification_report(validate_labels, validate_labels_pred_binary5))"
      ]
    },
    {
      "cell_type": "code",
      "execution_count": null,
      "metadata": {
        "colab": {
          "base_uri": "https://localhost:8080/"
        },
        "id": "AWWEJ2K4Wlh4",
        "outputId": "4a84a291-b98b-4cc2-d881-b0bf97940c92"
      },
      "outputs": [],
      "source": [
        "test_labels_pred5 = model5.predict(test_images)\n",
        "\n",
        "# Apply threshold for binary classification\n",
        "threshold = 0.5\n",
        "test_labels_pred_binary5 = (test_labels_pred5 > threshold).astype(int)\n",
        "\n",
        "# Extract binary labels\n",
        "test_labels = la2[[\"Healthy\"]].values\n",
        "\n",
        "# Generate classification report\n",
        "print(classification_report(test_labels, test_labels_pred_binary5))"
      ]
    },
    {
      "cell_type": "markdown",
      "metadata": {
        "id": "ME6CvRFkZ5cn"
      },
      "source": [
        "6) **VGG19**"
      ]
    },
    {
      "cell_type": "code",
      "execution_count": null,
      "metadata": {
        "id": "9lqkgWlQYco_"
      },
      "outputs": [],
      "source": [
        "# Load the model\n",
        "model_path6 = '/content/drive/MyDrive/PCOS_TL_ML/BinaryLabel/Transfer Learning/Vgg19/VGG19_model.h5'\n",
        "model6 = load_model(model_path6)"
      ]
    },
    {
      "cell_type": "code",
      "execution_count": null,
      "metadata": {
        "colab": {
          "base_uri": "https://localhost:8080/"
        },
        "id": "ISmEaCvkZfY6",
        "outputId": "b5c758ca-f003-4153-d0c9-7487800bd592"
      },
      "outputs": [],
      "source": [
        "validate_labels_pred6 = model6.predict(validate_images)\n",
        "\n",
        "# Apply threshold for binary classification\n",
        "threshold = 0.5\n",
        "validate_labels_pred_binary6 = (validate_labels_pred6 > threshold).astype(int)\n",
        "\n",
        "# Extract binary labels\n",
        "validate_labels = validate[[\"Healthy\"]].values\n",
        "\n",
        "# Generate classification report\n",
        "print(classification_report(validate_labels, validate_labels_pred_binary6))"
      ]
    },
    {
      "cell_type": "code",
      "execution_count": null,
      "metadata": {
        "colab": {
          "base_uri": "https://localhost:8080/"
        },
        "id": "Hn-boJTjZfR4",
        "outputId": "ac5d80b8-4b44-43c5-ca72-690ab5d68a4e"
      },
      "outputs": [],
      "source": [
        "test_labels_pred6 = model6.predict(test_images)\n",
        "\n",
        "# Apply threshold for binary classification\n",
        "threshold = 0.5\n",
        "test_labels_pred_binary6 = (test_labels_pred6 > threshold).astype(int)\n",
        "\n",
        "# Extract binary labels\n",
        "test_labels = la2[[\"Healthy\"]].values\n",
        "\n",
        "# Generate classification report\n",
        "print(classification_report(test_labels, test_labels_pred_binary6))"
      ]
    },
    {
      "cell_type": "markdown",
      "metadata": {
        "id": "cgQ1z7aJf7zd"
      },
      "source": [
        "7) **XcepTion**"
      ]
    },
    {
      "cell_type": "code",
      "execution_count": null,
      "metadata": {
        "id": "tFs1DVeIfdao"
      },
      "outputs": [],
      "source": [
        "# Load the model\n",
        "model_path7 = '/content/drive/MyDrive/PCOS_TL_ML/BinaryLabel/Transfer Learning/Xception/Xception_model.h5'\n",
        "model7 = load_model(model_path7)"
      ]
    },
    {
      "cell_type": "code",
      "execution_count": null,
      "metadata": {
        "colab": {
          "base_uri": "https://localhost:8080/"
        },
        "id": "zYgMXizrfdUj",
        "outputId": "bae069a8-6c41-4a5b-8507-0aa1d671d6a3"
      },
      "outputs": [],
      "source": [
        "validate_labels_pred7 = model7.predict(validate_images)\n",
        "\n",
        "# Apply threshold for binary classification\n",
        "threshold = 0.5\n",
        "validate_labels_pred_binary7 = (validate_labels_pred7 > threshold).astype(int)\n",
        "\n",
        "# Extract binary labels\n",
        "validate_labels = validate[[\"Healthy\"]].values\n",
        "\n",
        "# Generate classification report\n",
        "print(classification_report(validate_labels, validate_labels_pred_binary7))"
      ]
    },
    {
      "cell_type": "code",
      "execution_count": null,
      "metadata": {
        "colab": {
          "base_uri": "https://localhost:8080/"
        },
        "id": "A9hSHkFfcR84",
        "outputId": "7a3c92e1-c091-4f61-baa6-026673e3f871"
      },
      "outputs": [],
      "source": [
        "test_labels_pred7 = model7.predict(test_images)\n",
        "\n",
        "# Apply threshold for binary classification\n",
        "threshold = 0.5\n",
        "test_labels_pred_binary7 = (test_labels_pred7 > threshold).astype(int)\n",
        "\n",
        "# Extract binary labels\n",
        "test_labels = la2[[\"Healthy\"]].values\n",
        "\n",
        "# Generate classification report\n",
        "print(classification_report(test_labels, test_labels_pred_binary7))"
      ]
    },
    {
      "cell_type": "markdown",
      "metadata": {},
      "source": [
        "7) **XcepTion**"
      ]
    },
    {
      "cell_type": "code",
      "execution_count": null,
      "metadata": {},
      "outputs": [],
      "source": [
        "# Load the model\n",
        "model_path7 = '/content/drive/MyDrive/PCOS_TL_ML/BinaryLabel/Transfer Learning/Xception/Xception_model.h5'\n",
        "model7 = load_model(model_path7)"
      ]
    },
    {
      "cell_type": "code",
      "execution_count": null,
      "metadata": {},
      "outputs": [],
      "source": [
        "validate_labels_pred7 = model7.predict(validate_images)\n",
        "\n",
        "# Apply threshold for binary classification\n",
        "threshold = 0.5\n",
        "validate_labels_pred_binary7 = (validate_labels_pred7 > threshold).astype(int)\n",
        "\n",
        "# Extract binary labels\n",
        "validate_labels = validate[[\"Healthy\"]].values\n",
        "\n",
        "# Generate classification report\n",
        "print(classification_report(validate_labels, validate_labels_pred_binary7))"
      ]
    },
    {
      "cell_type": "code",
      "execution_count": null,
      "metadata": {},
      "outputs": [],
      "source": [
        "test_labels_pred7 = model7.predict(test_images)\n",
        "\n",
        "# Apply threshold for binary classification\n",
        "threshold = 0.5\n",
        "test_labels_pred_binary7 = (test_labels_pred7 > threshold).astype(int)\n",
        "\n",
        "# Extract binary labels\n",
        "test_labels = la2[[\"Healthy\"]].values\n",
        "\n",
        "# Generate classification report\n",
        "print(classification_report(test_labels, test_labels_pred_binary7))"
      ]
    },
    {
      "cell_type": "markdown",
      "metadata": {},
      "source": [
        "8) **ConvNeXtBase**"
      ]
    },
    {
      "cell_type": "code",
      "execution_count": null,
      "metadata": {},
      "outputs": [],
      "source": [
        "# Load the model\n",
        "model_path8 = '/content/drive/MyDrive/PCOS_TL_ML/BinaryLabel/Transfer Learning/ConvNeXtBase/ConvNeXtBase_weights.h5'\n",
        "base_model8=ConvNeXtBase(weights='imagenet', include_top=False,input_shape=(300,300,3))\n",
        "x8 = base_model8.output\n",
        "x8 = Flatten()(x8)\n",
        "predictions8 = Dense(1, activation='sigmoid', use_bias=True, kernel_initializer=\"glorot_uniform\", bias_initializer=\"zeros\", kernel_regularizer=None, bias_regularizer=None, activity_regularizer=None, kernel_constraint=None, bias_constraint=None)(x8)\n",
        "model8 = Model(inputs=base_model8.input, outputs=predictions8)\n",
        "model8.load_weights(model_path8)"
      ]
    },
    {
      "cell_type": "code",
      "execution_count": null,
      "metadata": {},
      "outputs": [],
      "source": [
        "validate_labels_pred8 = model8.predict(validate_images)\n",
        "\n",
        "# Apply threshold for binary classification\n",
        "threshold = 0.5\n",
        "validate_labels_pred_binary8 = (validate_labels_pred8 > threshold).astype(int)\n",
        "\n",
        "# Extract binary labels\n",
        "validate_labels = validate[[\"Healthy\"]].values\n",
        "\n",
        "# Generate classification report\n",
        "print(classification_report(validate_labels, validate_labels_pred_binary8))"
      ]
    },
    {
      "cell_type": "code",
      "execution_count": null,
      "metadata": {},
      "outputs": [],
      "source": [
        "test_labels_pred8 = model8.predict(test_images)\n",
        "\n",
        "# Apply threshold for binary classification\n",
        "threshold = 0.5\n",
        "test_labels_pred_binary8 = (test_labels_pred8 > threshold).astype(int)\n",
        "\n",
        "# Extract binary labels\n",
        "test_labels = la2[[\"Healthy\"]].values\n",
        "\n",
        "# Generate classification report\n",
        "print(classification_report(test_labels, test_labels_pred_binary8))"
      ]
    },
    {
      "cell_type": "markdown",
      "metadata": {},
      "source": [
        "8) **ConvNeXtBase**"
      ]
    },
    {
      "cell_type": "code",
      "execution_count": null,
      "metadata": {},
      "outputs": [],
      "source": [
        "# Load the model\n",
        "model_path8 = '/content/drive/MyDrive/PCOS_TL_ML/BinaryLabel/Transfer Learning/ConvNeXtBase/ConvNeXtBase_weights.h5'\n",
        "base_model8=ConvNeXtBase(weights='imagenet', include_top=False,input_shape=(300,300,3))\n",
        "x8 = base_model8.output\n",
        "x8 = Flatten()(x8)\n",
        "predictions8 = Dense(1, activation='sigmoid', use_bias=True, kernel_initializer=\"glorot_uniform\", bias_initializer=\"zeros\", kernel_regularizer=None, bias_regularizer=None, activity_regularizer=None, kernel_constraint=None, bias_constraint=None)(x8)\n",
        "model8 = Model(inputs=base_model8.input, outputs=predictions8)\n",
        "model8.load_weights(model_path8)"
      ]
    },
    {
      "cell_type": "code",
      "execution_count": null,
      "metadata": {},
      "outputs": [],
      "source": [
        "validate_labels_pred8 = model8.predict(validate_images)\n",
        "\n",
        "# Apply threshold for binary classification\n",
        "threshold = 0.5\n",
        "validate_labels_pred_binary8 = (validate_labels_pred8 > threshold).astype(int)\n",
        "\n",
        "# Extract binary labels\n",
        "validate_labels = validate[[\"Healthy\"]].values\n",
        "\n",
        "# Generate classification report\n",
        "print(classification_report(validate_labels, validate_labels_pred_binary8))"
      ]
    },
    {
      "cell_type": "code",
      "execution_count": null,
      "metadata": {},
      "outputs": [],
      "source": [
        "test_labels_pred8 = model8.predict(test_images)\n",
        "\n",
        "# Apply threshold for binary classification\n",
        "threshold = 0.5\n",
        "test_labels_pred_binary8 = (test_labels_pred8 > threshold).astype(int)\n",
        "\n",
        "# Extract binary labels\n",
        "test_labels = la2[[\"Healthy\"]].values\n",
        "\n",
        "# Generate classification report\n",
        "print(classification_report(test_labels, test_labels_pred_binary8))"
      ]
    },
    {
      "cell_type": "markdown",
      "metadata": {},
      "source": [
        "9) **DenseNet169**"
      ]
    },
    {
      "cell_type": "code",
      "execution_count": null,
      "metadata": {},
      "outputs": [],
      "source": [
        "# Load the model\n",
        "model_path9 = '/content/drive/MyDrive/PCOS_TL_ML/BinaryLabel/Transfer Learning/DenseNet169/DenseNet169_weights.h5'\n",
        "base_model9=ConvNeXtBase(weights='imagenet', include_top=False,input_shape=(300,300,3))\n",
        "x9 = base_model9.output\n",
        "x9 = Flatten()(x9)\n",
        "predictions9 = Dense(1, activation='sigmoid', use_bias=True, kernel_initializer=\"glorot_uniform\", bias_initializer=\"zeros\", kernel_regularizer=None, bias_regularizer=None, activity_regularizer=None, kernel_constraint=None, bias_constraint=None)(x9)\n",
        "model9 = Model(inputs=base_model9.input, outputs=predictions9)\n",
        "model9.load_weights(model_path9)"
      ]
    },
    {
      "cell_type": "code",
      "execution_count": null,
      "metadata": {},
      "outputs": [],
      "source": [
        "validate_labels_pred9 = model9.predict(validate_images)\n",
        "\n",
        "# Apply threshold for binary classification\n",
        "threshold = 0.5\n",
        "validate_labels_pred_binary9 = (validate_labels_pred9 > threshold).astype(int)\n",
        "\n",
        "# Extract binary labels\n",
        "validate_labels = validate[[\"Healthy\"]].values\n",
        "\n",
        "# Generate classification report\n",
        "print(classification_report(validate_labels, validate_labels_pred_binary9))"
      ]
    },
    {
      "cell_type": "code",
      "execution_count": null,
      "metadata": {},
      "outputs": [],
      "source": [
        "test_labels_pred9 = model9.predict(test_images)\n",
        "\n",
        "# Apply threshold for binary classification\n",
        "threshold = 0.5\n",
        "test_labels_pred_binary9 = (test_labels_pred9 > threshold).astype(int)\n",
        "\n",
        "# Extract binary labels\n",
        "test_labels = la2[[\"Healthy\"]].values\n",
        "\n",
        "# Generate classification report\n",
        "print(classification_report(test_labels, test_labels_pred_binary9))"
      ]
    }
  ],
  "metadata": {
    "colab": {
      "gpuType": "T4",
      "provenance": []
    },
    "kernelspec": {
      "display_name": "Python 3",
      "name": "python3"
    },
    "language_info": {
      "name": "python"
    }
  },
  "nbformat": 4,
  "nbformat_minor": 0
}
